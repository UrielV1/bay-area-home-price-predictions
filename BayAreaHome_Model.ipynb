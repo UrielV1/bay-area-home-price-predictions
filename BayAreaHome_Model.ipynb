{
 "cells": [
  {
   "cell_type": "code",
   "execution_count": 1,
   "metadata": {},
   "outputs": [],
   "source": [
    "import pandas as pd\n",
    "import matplotlib.pyplot as plt"
   ]
  },
  {
   "cell_type": "code",
   "execution_count": 2,
   "metadata": {},
   "outputs": [],
   "source": [
    "hf = pd.read_csv('home_prices.csv')"
   ]
  },
  {
   "cell_type": "code",
   "execution_count": 3,
   "metadata": {},
   "outputs": [
    {
     "data": {
      "text/html": [
       "<div>\n",
       "<style scoped>\n",
       "    .dataframe tbody tr th:only-of-type {\n",
       "        vertical-align: middle;\n",
       "    }\n",
       "\n",
       "    .dataframe tbody tr th {\n",
       "        vertical-align: top;\n",
       "    }\n",
       "\n",
       "    .dataframe thead th {\n",
       "        text-align: right;\n",
       "    }\n",
       "</style>\n",
       "<table border=\"1\" class=\"dataframe\">\n",
       "  <thead>\n",
       "    <tr style=\"text-align: right;\">\n",
       "      <th></th>\n",
       "      <th>Unnamed: 0</th>\n",
       "      <th>address</th>\n",
       "      <th>info</th>\n",
       "      <th>z_address</th>\n",
       "      <th>bathrooms</th>\n",
       "      <th>bedrooms</th>\n",
       "      <th>finishedsqft</th>\n",
       "      <th>lastsolddate</th>\n",
       "      <th>lastsoldprice</th>\n",
       "      <th>latitude</th>\n",
       "      <th>longitude</th>\n",
       "      <th>neighborhood</th>\n",
       "      <th>totalrooms</th>\n",
       "      <th>usecode</th>\n",
       "      <th>yearbuilt</th>\n",
       "      <th>zestimate</th>\n",
       "      <th>zindexvalue</th>\n",
       "      <th>zipcode</th>\n",
       "      <th>zpid</th>\n",
       "    </tr>\n",
       "  </thead>\n",
       "  <tbody>\n",
       "    <tr>\n",
       "      <th>0</th>\n",
       "      <td>2</td>\n",
       "      <td>Address: 1160 Mission Street #2007</td>\n",
       "      <td>San FranciscoSales price: 1300000Sales date: ...</td>\n",
       "      <td>1160 Mission St UNIT 2007</td>\n",
       "      <td>2.0</td>\n",
       "      <td>2.0</td>\n",
       "      <td>1043.0</td>\n",
       "      <td>02/17/2016</td>\n",
       "      <td>1300000.0</td>\n",
       "      <td>37.778705</td>\n",
       "      <td>-122.412635</td>\n",
       "      <td>South of Market</td>\n",
       "      <td>4.0</td>\n",
       "      <td>Condominium</td>\n",
       "      <td>2007.0</td>\n",
       "      <td>1167508.0</td>\n",
       "      <td>975,700</td>\n",
       "      <td>94103.0</td>\n",
       "      <td>83152781.0</td>\n",
       "    </tr>\n",
       "    <tr>\n",
       "      <th>1</th>\n",
       "      <td>5</td>\n",
       "      <td>Address: 260 King Street #475</td>\n",
       "      <td>San FranciscoSales price: 750000Sales date: 0...</td>\n",
       "      <td>260 King St UNIT 475</td>\n",
       "      <td>1.0</td>\n",
       "      <td>1.0</td>\n",
       "      <td>903.0</td>\n",
       "      <td>02/17/2016</td>\n",
       "      <td>750000.0</td>\n",
       "      <td>37.777641</td>\n",
       "      <td>-122.393417</td>\n",
       "      <td>South of Market</td>\n",
       "      <td>3.0</td>\n",
       "      <td>Condominium</td>\n",
       "      <td>2004.0</td>\n",
       "      <td>823719.0</td>\n",
       "      <td>975,700</td>\n",
       "      <td>94107.0</td>\n",
       "      <td>69819817.0</td>\n",
       "    </tr>\n",
       "  </tbody>\n",
       "</table>\n",
       "</div>"
      ],
      "text/plain": [
       "   Unnamed: 0                             address  \\\n",
       "0           2  Address: 1160 Mission Street #2007   \n",
       "1           5       Address: 260 King Street #475   \n",
       "\n",
       "                                                info  \\\n",
       "0   San FranciscoSales price: 1300000Sales date: ...   \n",
       "1   San FranciscoSales price: 750000Sales date: 0...   \n",
       "\n",
       "                   z_address  bathrooms  bedrooms  finishedsqft lastsolddate  \\\n",
       "0  1160 Mission St UNIT 2007        2.0       2.0        1043.0   02/17/2016   \n",
       "1       260 King St UNIT 475        1.0       1.0         903.0   02/17/2016   \n",
       "\n",
       "   lastsoldprice   latitude   longitude     neighborhood  totalrooms  \\\n",
       "0      1300000.0  37.778705 -122.412635  South of Market         4.0   \n",
       "1       750000.0  37.777641 -122.393417  South of Market         3.0   \n",
       "\n",
       "       usecode  yearbuilt  zestimate zindexvalue  zipcode        zpid  \n",
       "0  Condominium     2007.0  1167508.0     975,700  94103.0  83152781.0  \n",
       "1  Condominium     2004.0   823719.0     975,700  94107.0  69819817.0  "
      ]
     },
     "execution_count": 3,
     "metadata": {},
     "output_type": "execute_result"
    }
   ],
   "source": [
    "hf.head(2)"
   ]
  },
  {
   "cell_type": "markdown",
   "metadata": {},
   "source": [
    "throwing all irrelevant columns"
   ]
  },
  {
   "cell_type": "code",
   "execution_count": 4,
   "metadata": {},
   "outputs": [
    {
     "data": {
      "text/plain": [
       "Index(['Unnamed: 0', 'address', 'info', 'z_address', 'bathrooms', 'bedrooms',\n",
       "       'finishedsqft', 'lastsolddate', 'lastsoldprice', 'latitude',\n",
       "       'longitude', 'neighborhood', 'totalrooms', 'usecode', 'yearbuilt',\n",
       "       'zestimate', 'zindexvalue', 'zipcode', 'zpid'],\n",
       "      dtype='object')"
      ]
     },
     "execution_count": 4,
     "metadata": {},
     "output_type": "execute_result"
    }
   ],
   "source": [
    "hf.columns.unique()"
   ]
  },
  {
   "cell_type": "code",
   "execution_count": 5,
   "metadata": {},
   "outputs": [],
   "source": [
    "hf.drop(['Unnamed: 0', 'info', 'z_address', 'zestimate', 'zipcode', 'zpid'], axis=1, inplace=True)"
   ]
  },
  {
   "cell_type": "code",
   "execution_count": 6,
   "metadata": {},
   "outputs": [
    {
     "data": {
      "text/html": [
       "<div>\n",
       "<style scoped>\n",
       "    .dataframe tbody tr th:only-of-type {\n",
       "        vertical-align: middle;\n",
       "    }\n",
       "\n",
       "    .dataframe tbody tr th {\n",
       "        vertical-align: top;\n",
       "    }\n",
       "\n",
       "    .dataframe thead th {\n",
       "        text-align: right;\n",
       "    }\n",
       "</style>\n",
       "<table border=\"1\" class=\"dataframe\">\n",
       "  <thead>\n",
       "    <tr style=\"text-align: right;\">\n",
       "      <th></th>\n",
       "      <th>address</th>\n",
       "      <th>bathrooms</th>\n",
       "      <th>bedrooms</th>\n",
       "      <th>finishedsqft</th>\n",
       "      <th>lastsolddate</th>\n",
       "      <th>lastsoldprice</th>\n",
       "      <th>latitude</th>\n",
       "      <th>longitude</th>\n",
       "      <th>neighborhood</th>\n",
       "      <th>totalrooms</th>\n",
       "      <th>usecode</th>\n",
       "      <th>yearbuilt</th>\n",
       "      <th>zindexvalue</th>\n",
       "    </tr>\n",
       "  </thead>\n",
       "  <tbody>\n",
       "    <tr>\n",
       "      <th>0</th>\n",
       "      <td>Address: 1160 Mission Street #2007</td>\n",
       "      <td>2.0</td>\n",
       "      <td>2.0</td>\n",
       "      <td>1043.0</td>\n",
       "      <td>02/17/2016</td>\n",
       "      <td>1300000.0</td>\n",
       "      <td>37.778705</td>\n",
       "      <td>-122.412635</td>\n",
       "      <td>South of Market</td>\n",
       "      <td>4.0</td>\n",
       "      <td>Condominium</td>\n",
       "      <td>2007.0</td>\n",
       "      <td>975,700</td>\n",
       "    </tr>\n",
       "    <tr>\n",
       "      <th>1</th>\n",
       "      <td>Address: 260 King Street #475</td>\n",
       "      <td>1.0</td>\n",
       "      <td>1.0</td>\n",
       "      <td>903.0</td>\n",
       "      <td>02/17/2016</td>\n",
       "      <td>750000.0</td>\n",
       "      <td>37.777641</td>\n",
       "      <td>-122.393417</td>\n",
       "      <td>South of Market</td>\n",
       "      <td>3.0</td>\n",
       "      <td>Condominium</td>\n",
       "      <td>2004.0</td>\n",
       "      <td>975,700</td>\n",
       "    </tr>\n",
       "  </tbody>\n",
       "</table>\n",
       "</div>"
      ],
      "text/plain": [
       "                              address  bathrooms  bedrooms  finishedsqft  \\\n",
       "0  Address: 1160 Mission Street #2007        2.0       2.0        1043.0   \n",
       "1       Address: 260 King Street #475        1.0       1.0         903.0   \n",
       "\n",
       "  lastsolddate  lastsoldprice   latitude   longitude     neighborhood  \\\n",
       "0   02/17/2016      1300000.0  37.778705 -122.412635  South of Market   \n",
       "1   02/17/2016       750000.0  37.777641 -122.393417  South of Market   \n",
       "\n",
       "   totalrooms      usecode  yearbuilt zindexvalue  \n",
       "0         4.0  Condominium     2007.0     975,700  \n",
       "1         3.0  Condominium     2004.0     975,700  "
      ]
     },
     "execution_count": 6,
     "metadata": {},
     "output_type": "execute_result"
    }
   ],
   "source": [
    "hf.head(2)"
   ]
  },
  {
   "cell_type": "markdown",
   "metadata": {},
   "source": [
    "convert zindexvalue from str to int"
   ]
  },
  {
   "cell_type": "code",
   "execution_count": 7,
   "metadata": {},
   "outputs": [
    {
     "data": {
      "text/plain": [
       "str"
      ]
     },
     "execution_count": 7,
     "metadata": {},
     "output_type": "execute_result"
    }
   ],
   "source": [
    "type(hf['zindexvalue'][0])"
   ]
  },
  {
   "cell_type": "code",
   "execution_count": 8,
   "metadata": {},
   "outputs": [],
   "source": [
    "hf['zindexvalue'] = hf['zindexvalue'].str.replace(',','')\n",
    "hf['zindexvalue'] = hf['zindexvalue'].astype(int)"
   ]
  },
  {
   "cell_type": "code",
   "execution_count": 9,
   "metadata": {},
   "outputs": [
    {
     "name": "stdout",
     "output_type": "stream",
     "text": [
      "<class 'pandas.core.frame.DataFrame'>\n",
      "RangeIndex: 11330 entries, 0 to 11329\n",
      "Data columns (total 13 columns):\n",
      " #   Column         Non-Null Count  Dtype  \n",
      "---  ------         --------------  -----  \n",
      " 0   address        11330 non-null  object \n",
      " 1   bathrooms      11330 non-null  float64\n",
      " 2   bedrooms       11330 non-null  float64\n",
      " 3   finishedsqft   11330 non-null  float64\n",
      " 4   lastsolddate   11330 non-null  object \n",
      " 5   lastsoldprice  11330 non-null  float64\n",
      " 6   latitude       11330 non-null  float64\n",
      " 7   longitude      11330 non-null  float64\n",
      " 8   neighborhood   11330 non-null  object \n",
      " 9   totalrooms     11330 non-null  float64\n",
      " 10  usecode        11330 non-null  object \n",
      " 11  yearbuilt      11330 non-null  float64\n",
      " 12  zindexvalue    11330 non-null  int32  \n",
      "dtypes: float64(8), int32(1), object(4)\n",
      "memory usage: 1.1+ MB\n"
     ]
    }
   ],
   "source": [
    "hf.head()\n",
    "hf.info()"
   ]
  },
  {
   "cell_type": "code",
   "execution_count": 10,
   "metadata": {},
   "outputs": [
    {
     "data": {
      "text/html": [
       "<div>\n",
       "<style scoped>\n",
       "    .dataframe tbody tr th:only-of-type {\n",
       "        vertical-align: middle;\n",
       "    }\n",
       "\n",
       "    .dataframe tbody tr th {\n",
       "        vertical-align: top;\n",
       "    }\n",
       "\n",
       "    .dataframe thead th {\n",
       "        text-align: right;\n",
       "    }\n",
       "</style>\n",
       "<table border=\"1\" class=\"dataframe\">\n",
       "  <thead>\n",
       "    <tr style=\"text-align: right;\">\n",
       "      <th></th>\n",
       "      <th>bathrooms</th>\n",
       "      <th>bedrooms</th>\n",
       "      <th>finishedsqft</th>\n",
       "      <th>lastsoldprice</th>\n",
       "      <th>latitude</th>\n",
       "      <th>longitude</th>\n",
       "      <th>totalrooms</th>\n",
       "      <th>yearbuilt</th>\n",
       "      <th>zindexvalue</th>\n",
       "    </tr>\n",
       "  </thead>\n",
       "  <tbody>\n",
       "    <tr>\n",
       "      <th>count</th>\n",
       "      <td>11330.000000</td>\n",
       "      <td>11330.000000</td>\n",
       "      <td>11330.000000</td>\n",
       "      <td>1.133000e+04</td>\n",
       "      <td>11330.000000</td>\n",
       "      <td>11330.000000</td>\n",
       "      <td>11330.000000</td>\n",
       "      <td>11330.000000</td>\n",
       "      <td>1.133000e+04</td>\n",
       "    </tr>\n",
       "    <tr>\n",
       "      <th>mean</th>\n",
       "      <td>1.980229</td>\n",
       "      <td>2.614475</td>\n",
       "      <td>1585.420918</td>\n",
       "      <td>1.263928e+06</td>\n",
       "      <td>37.759711</td>\n",
       "      <td>-122.436518</td>\n",
       "      <td>6.111562</td>\n",
       "      <td>1948.498147</td>\n",
       "      <td>1.320205e+06</td>\n",
       "    </tr>\n",
       "    <tr>\n",
       "      <th>std</th>\n",
       "      <td>1.047358</td>\n",
       "      <td>1.299457</td>\n",
       "      <td>921.978245</td>\n",
       "      <td>1.042079e+06</td>\n",
       "      <td>0.025578</td>\n",
       "      <td>0.030743</td>\n",
       "      <td>12.125819</td>\n",
       "      <td>37.911196</td>\n",
       "      <td>5.848170e+05</td>\n",
       "    </tr>\n",
       "    <tr>\n",
       "      <th>min</th>\n",
       "      <td>0.500000</td>\n",
       "      <td>0.000000</td>\n",
       "      <td>1.000000</td>\n",
       "      <td>5.350000e+02</td>\n",
       "      <td>37.708170</td>\n",
       "      <td>-122.510726</td>\n",
       "      <td>1.000000</td>\n",
       "      <td>1860.000000</td>\n",
       "      <td>6.881000e+05</td>\n",
       "    </tr>\n",
       "    <tr>\n",
       "      <th>25%</th>\n",
       "      <td>1.000000</td>\n",
       "      <td>2.000000</td>\n",
       "      <td>1019.000000</td>\n",
       "      <td>7.292500e+05</td>\n",
       "      <td>37.739286</td>\n",
       "      <td>-122.455157</td>\n",
       "      <td>4.000000</td>\n",
       "      <td>1916.000000</td>\n",
       "      <td>9.829000e+05</td>\n",
       "    </tr>\n",
       "    <tr>\n",
       "      <th>50%</th>\n",
       "      <td>2.000000</td>\n",
       "      <td>2.000000</td>\n",
       "      <td>1362.000000</td>\n",
       "      <td>9.900000e+05</td>\n",
       "      <td>37.760513</td>\n",
       "      <td>-122.432510</td>\n",
       "      <td>5.000000</td>\n",
       "      <td>1940.000000</td>\n",
       "      <td>1.211900e+06</td>\n",
       "    </tr>\n",
       "    <tr>\n",
       "      <th>75%</th>\n",
       "      <td>2.000000</td>\n",
       "      <td>3.000000</td>\n",
       "      <td>1876.000000</td>\n",
       "      <td>1.450000e+06</td>\n",
       "      <td>37.781386</td>\n",
       "      <td>-122.413359</td>\n",
       "      <td>7.000000</td>\n",
       "      <td>1986.000000</td>\n",
       "      <td>1.480400e+06</td>\n",
       "    </tr>\n",
       "    <tr>\n",
       "      <th>max</th>\n",
       "      <td>14.000000</td>\n",
       "      <td>20.000000</td>\n",
       "      <td>27275.000000</td>\n",
       "      <td>2.388900e+07</td>\n",
       "      <td>37.806083</td>\n",
       "      <td>-122.381201</td>\n",
       "      <td>1264.000000</td>\n",
       "      <td>2016.000000</td>\n",
       "      <td>5.333500e+06</td>\n",
       "    </tr>\n",
       "  </tbody>\n",
       "</table>\n",
       "</div>"
      ],
      "text/plain": [
       "          bathrooms      bedrooms  finishedsqft  lastsoldprice      latitude  \\\n",
       "count  11330.000000  11330.000000  11330.000000   1.133000e+04  11330.000000   \n",
       "mean       1.980229      2.614475   1585.420918   1.263928e+06     37.759711   \n",
       "std        1.047358      1.299457    921.978245   1.042079e+06      0.025578   \n",
       "min        0.500000      0.000000      1.000000   5.350000e+02     37.708170   \n",
       "25%        1.000000      2.000000   1019.000000   7.292500e+05     37.739286   \n",
       "50%        2.000000      2.000000   1362.000000   9.900000e+05     37.760513   \n",
       "75%        2.000000      3.000000   1876.000000   1.450000e+06     37.781386   \n",
       "max       14.000000     20.000000  27275.000000   2.388900e+07     37.806083   \n",
       "\n",
       "          longitude    totalrooms     yearbuilt   zindexvalue  \n",
       "count  11330.000000  11330.000000  11330.000000  1.133000e+04  \n",
       "mean    -122.436518      6.111562   1948.498147  1.320205e+06  \n",
       "std        0.030743     12.125819     37.911196  5.848170e+05  \n",
       "min     -122.510726      1.000000   1860.000000  6.881000e+05  \n",
       "25%     -122.455157      4.000000   1916.000000  9.829000e+05  \n",
       "50%     -122.432510      5.000000   1940.000000  1.211900e+06  \n",
       "75%     -122.413359      7.000000   1986.000000  1.480400e+06  \n",
       "max     -122.381201   1264.000000   2016.000000  5.333500e+06  "
      ]
     },
     "execution_count": 10,
     "metadata": {},
     "output_type": "execute_result"
    }
   ],
   "source": [
    "hf.describe()"
   ]
  },
  {
   "cell_type": "markdown",
   "metadata": {},
   "source": [
    "### Data Visualization"
   ]
  },
  {
   "cell_type": "code",
   "execution_count": 11,
   "metadata": {},
   "outputs": [
    {
     "data": {
      "text/plain": [
       "array([[<matplotlib.axes._subplots.AxesSubplot object at 0x000002B7FC9D9988>,\n",
       "        <matplotlib.axes._subplots.AxesSubplot object at 0x000002B7FB60D408>,\n",
       "        <matplotlib.axes._subplots.AxesSubplot object at 0x000002B7FCCFD148>],\n",
       "       [<matplotlib.axes._subplots.AxesSubplot object at 0x000002B7FCD36208>,\n",
       "        <matplotlib.axes._subplots.AxesSubplot object at 0x000002B7FCD6D308>,\n",
       "        <matplotlib.axes._subplots.AxesSubplot object at 0x000002B7FCDA6448>],\n",
       "       [<matplotlib.axes._subplots.AxesSubplot object at 0x000002B7FCDE3F48>,\n",
       "        <matplotlib.axes._subplots.AxesSubplot object at 0x000002B7FCE16648>,\n",
       "        <matplotlib.axes._subplots.AxesSubplot object at 0x000002B7FCE23208>]],\n",
       "      dtype=object)"
      ]
     },
     "execution_count": 11,
     "metadata": {},
     "output_type": "execute_result"
    },
    {
     "data": {
      "image/png": "[encoded data removed]",
      "text/plain": [
       "<Figure size 1440x1080 with 9 Axes>"
      ]
     },
     "metadata": {
      "needs_background": "light"
     },
     "output_type": "display_data"
    }
   ],
   "source": [
    "# histograms of all features\n",
    "hf.hist(bins=30, figsize=(20,15))"
   ]
  },
  {
   "cell_type": "code",
   "execution_count": 12,
   "metadata": {},
   "outputs": [
    {
     "data": {
      "text/plain": [
       "array([[<matplotlib.axes._subplots.AxesSubplot object at 0x000002B7FC0FF308>,\n",
       "        <matplotlib.axes._subplots.AxesSubplot object at 0x000002B7FE9C1748>]],\n",
       "      dtype=object)"
      ]
     },
     "execution_count": 12,
     "metadata": {},
     "output_type": "execute_result"
    },
    {
     "data": {
      "image/png": "[encoded data removed]",
      "text/plain": [
       "<Figure size 1152x288 with 2 Axes>"
      ]
     },
     "metadata": {
      "needs_background": "light"
     },
     "output_type": "display_data"
    }
   ],
   "source": [
    "# histograms of a few features\n",
    "hf[ ['lastsoldprice', 'finishedsqft'] ].hist(bins=30, figsize=(16,4))"
   ]
  },
  {
   "cell_type": "markdown",
   "metadata": {},
   "source": [
    "At first sight we can see that the features range is quite large.\n",
    "For that we need to scale the features for some of the algorithms"
   ]
  },
  {
   "cell_type": "markdown",
   "metadata": {},
   "source": [
    "Let's see how the positions of houses distributes"
   ]
  },
  {
   "cell_type": "code",
   "execution_count": 13,
   "metadata": {},
   "outputs": [
    {
     "data": {
      "text/plain": [
       "<matplotlib.axes._subplots.AxesSubplot at 0x2b7fd36e6c8>"
      ]
     },
     "execution_count": 13,
     "metadata": {},
     "output_type": "execute_result"
    },
    {
     "data": {
      "image/png": "[encoded data removed]",
      "text/plain": [
       "<Figure size 720x432 with 1 Axes>"
      ]
     },
     "metadata": {
      "needs_background": "light"
     },
     "output_type": "display_data"
    }
   ],
   "source": [
    "hf.plot(kind=\"scatter\", x=\"longitude\", y=\"latitude\", alpha=0.2, figsize=(10,6))"
   ]
  },
  {
   "cell_type": "markdown",
   "metadata": {},
   "source": [
    "Now let's see what is the correlation between each of the features to the 'last_sold_price'"
   ]
  },
  {
   "cell_type": "code",
   "execution_count": 14,
   "metadata": {},
   "outputs": [
    {
     "data": {
      "text/plain": [
       "lastsoldprice    1.000000\n",
       "finishedsqft     0.647208\n",
       "bathrooms        0.536880\n",
       "zindexvalue      0.460429\n",
       "bedrooms         0.395478\n",
       "latitude         0.283107\n",
       "totalrooms       0.093527\n",
       "longitude       -0.052595\n",
       "yearbuilt       -0.189055\n",
       "Name: lastsoldprice, dtype: float64"
      ]
     },
     "execution_count": 14,
     "metadata": {},
     "output_type": "execute_result"
    }
   ],
   "source": [
    "# we created a correlation matrix, asking for the 'lastsoldprice', sorted\n",
    "hf.corr().lastsoldprice.sort_values(ascending=False)"
   ]
  },
  {
   "cell_type": "code",
   "execution_count": 15,
   "metadata": {},
   "outputs": [],
   "source": [
    "###-----------------Observations------------------###\n",
    "# 1. Strong correlations - finishedsqft, bathrooms\n",
    "# 2. Negative correlation - yearbuilt (small one)\n",
    "# 3. Values close to zero - no linear correlation"
   ]
  },
  {
   "cell_type": "markdown",
   "metadata": {},
   "source": [
    "If we wish to have a closer look on our strongest features, we can scatter plot them - "
   ]
  },
  {
   "cell_type": "code",
   "execution_count": 17,
   "metadata": {},
   "outputs": [
    {
     "name": "stderr",
     "output_type": "stream",
     "text": [
      "C:\\ProgramData\\Anaconda3\\lib\\site-packages\\statsmodels\\tools\\_testing.py:19: FutureWarning: pandas.util.testing is deprecated. Use the functions in the public API at pandas.testing instead.\n",
      "  import pandas.util.testing as tm\n"
     ]
    },
    {
     "data": {
      "image/png": "[encoded data removed]",
      "text/plain": [
       "<Figure size 720x720 with 20 Axes>"
      ]
     },
     "metadata": {},
     "output_type": "display_data"
    }
   ],
   "source": [
    "import seaborn as sns\n",
    "strg_feat = [\"lastsoldprice\", \"finishedsqft\", \"bathrooms\", \"zindexvalue\"]\n",
    "sns.set(style=\"ticks\", color_codes=True)\n",
    "g = sns.pairplot(hf[strg_feat])"
   ]
  },
  {
   "cell_type": "markdown",
   "metadata": {},
   "source": [
    "The most promising relation of  'lastsoldprice' is observed with 'finishedsqft'  "
   ]
  },
  {
   "cell_type": "code",
   "execution_count": 18,
   "metadata": {},
   "outputs": [
    {
     "data": {
      "text/plain": [
       "<matplotlib.axes._subplots.AxesSubplot at 0x2b781363b88>"
      ]
     },
     "execution_count": 18,
     "metadata": {},
     "output_type": "execute_result"
    },
    {
     "data": {
      "image/png": "[encoded data removed]",
      "text/plain": [
       "<Figure size 432x288 with 1 Axes>"
      ]
     },
     "metadata": {},
     "output_type": "display_data"
    }
   ],
   "source": [
    "sns.set()\n",
    "sns.scatterplot(x=\"finishedsqft\", y=\"lastsoldprice\", data=hf)\n",
    "# I could add a linear fit line, to estimate the ratio\n",
    "# maybe take out these two outliers"
   ]
  },
  {
   "cell_type": "code",
   "execution_count": 19,
   "metadata": {},
   "outputs": [],
   "source": [
    "# There is a linear trend. As the sqft increases the price increases"
   ]
  },
  {
   "cell_type": "markdown",
   "metadata": {},
   "source": [
    "Let's add another feature \"price per sqft\" and see how strong it is"
   ]
  },
  {
   "cell_type": "code",
   "execution_count": 20,
   "metadata": {},
   "outputs": [],
   "source": [
    "hf['price_per_sqft'] = hf['lastsoldprice']/hf['finishedsqft']"
   ]
  },
  {
   "cell_type": "code",
   "execution_count": 21,
   "metadata": {},
   "outputs": [
    {
     "data": {
      "text/plain": [
       "lastsoldprice     1.000000\n",
       "finishedsqft      0.647208\n",
       "bathrooms         0.536880\n",
       "zindexvalue       0.460429\n",
       "bedrooms          0.395478\n",
       "latitude          0.283107\n",
       "totalrooms        0.093527\n",
       "price_per_sqft    0.005008\n",
       "longitude        -0.052595\n",
       "yearbuilt        -0.189055\n",
       "Name: lastsoldprice, dtype: float64"
      ]
     },
     "execution_count": 21,
     "metadata": {},
     "output_type": "execute_result"
    }
   ],
   "source": [
    "hf.corr().lastsoldprice.sort_values(ascending=False)"
   ]
  },
  {
   "cell_type": "code",
   "execution_count": 22,
   "metadata": {},
   "outputs": [],
   "source": [
    "# We can see that it has no linear relation with \"lastsoldprice\"\n",
    "# Let's use this parameter with grouping different neighbohoods"
   ]
  },
  {
   "cell_type": "code",
   "execution_count": 23,
   "metadata": {},
   "outputs": [
    {
     "data": {
      "text/plain": [
       "Mission             540\n",
       "Bernal Heights      525\n",
       "South of Market     524\n",
       "South Beach         461\n",
       "Pacific Heights     439\n",
       "                   ... \n",
       "North Beach          31\n",
       "Lakeside             29\n",
       "Little Hollywood     12\n",
       "North Waterfront      8\n",
       "Daly City             3\n",
       "Name: neighborhood, Length: 71, dtype: int64"
      ]
     },
     "execution_count": 23,
     "metadata": {},
     "output_type": "execute_result"
    }
   ],
   "source": [
    "# Distribution of neighborhoods\n",
    "hf['neighborhood'].value_counts()"
   ]
  },
  {
   "cell_type": "code",
   "execution_count": 24,
   "metadata": {},
   "outputs": [
    {
     "data": {
      "text/plain": [
       "71"
      ]
     },
     "execution_count": 24,
     "metadata": {},
     "output_type": "execute_result"
    }
   ],
   "source": [
    "# Total number of neighborhoods\n",
    "len(hf['neighborhood'].value_counts())"
   ]
  },
  {
   "cell_type": "code",
   "execution_count": 25,
   "metadata": {},
   "outputs": [
    {
     "data": {
      "text/plain": [
       "neighborhood\n",
       "Bayview               354\n",
       "Bernal Heights        525\n",
       "Buena Vista Park       70\n",
       "Central Richmond      227\n",
       "Central Sunset        229\n",
       "                     ... \n",
       "West Portal            43\n",
       "Western Addition      107\n",
       "Westwood Highlands     56\n",
       "Westwood Park          33\n",
       "Yerba Buena           157\n",
       "Name: address, Length: 71, dtype: int64"
      ]
     },
     "execution_count": 25,
     "metadata": {},
     "output_type": "execute_result"
    }
   ],
   "source": [
    "# it's the same as value_counts(), but not sorted\n",
    "frequ = hf.groupby('neighborhood').count().address\n",
    "frequ#.sort_values(ascending=False).head()"
   ]
  },
  {
   "cell_type": "code",
   "execution_count": 26,
   "metadata": {},
   "outputs": [
    {
     "data": {
      "text/plain": [
       "neighborhood\n",
       "Bayview              417.049058\n",
       "Bernal Heights      3158.199830\n",
       "Buena Vista Park     952.912618\n",
       "Central Richmond     659.691461\n",
       "Central Sunset       610.067525\n",
       "Name: price_per_sqft, dtype: float64"
      ]
     },
     "execution_count": 26,
     "metadata": {},
     "output_type": "execute_result"
    }
   ],
   "source": [
    "# Find the mean price_per_sqft of each neighborhood\n",
    "mean_price = hf.groupby('neighborhood')['price_per_sqft'].mean()\n",
    "mean_price.head()"
   ]
  },
  {
   "cell_type": "code",
   "execution_count": 27,
   "metadata": {},
   "outputs": [],
   "source": [
    "# We concat the prices according to the frequency it appears\n",
    "# and according to the mean price_per_sqft grouped by neighbohood"
   ]
  },
  {
   "cell_type": "code",
   "execution_count": 28,
   "metadata": {},
   "outputs": [
    {
     "data": {
      "text/html": [
       "<div>\n",
       "<style scoped>\n",
       "    .dataframe tbody tr th:only-of-type {\n",
       "        vertical-align: middle;\n",
       "    }\n",
       "\n",
       "    .dataframe tbody tr th {\n",
       "        vertical-align: top;\n",
       "    }\n",
       "\n",
       "    .dataframe thead th {\n",
       "        text-align: right;\n",
       "    }\n",
       "</style>\n",
       "<table border=\"1\" class=\"dataframe\">\n",
       "  <thead>\n",
       "    <tr style=\"text-align: right;\">\n",
       "      <th></th>\n",
       "      <th>frequency</th>\n",
       "      <th>price_per_sqft</th>\n",
       "      <th>neighborhood</th>\n",
       "    </tr>\n",
       "    <tr>\n",
       "      <th>neighborhood</th>\n",
       "      <th></th>\n",
       "      <th></th>\n",
       "      <th></th>\n",
       "    </tr>\n",
       "  </thead>\n",
       "  <tbody>\n",
       "    <tr>\n",
       "      <th>Bayview</th>\n",
       "      <td>354</td>\n",
       "      <td>417.049058</td>\n",
       "      <td>Bayview</td>\n",
       "    </tr>\n",
       "    <tr>\n",
       "      <th>Bernal Heights</th>\n",
       "      <td>525</td>\n",
       "      <td>3158.199830</td>\n",
       "      <td>Bernal Heights</td>\n",
       "    </tr>\n",
       "    <tr>\n",
       "      <th>Buena Vista Park</th>\n",
       "      <td>70</td>\n",
       "      <td>952.912618</td>\n",
       "      <td>Buena Vista Park</td>\n",
       "    </tr>\n",
       "  </tbody>\n",
       "</table>\n",
       "</div>"
      ],
      "text/plain": [
       "                  frequency  price_per_sqft      neighborhood\n",
       "neighborhood                                                 \n",
       "Bayview                 354      417.049058           Bayview\n",
       "Bernal Heights          525     3158.199830    Bernal Heights\n",
       "Buena Vista Park         70      952.912618  Buena Vista Park"
      ]
     },
     "execution_count": 28,
     "metadata": {},
     "output_type": "execute_result"
    }
   ],
   "source": [
    "cluster = pd.concat([frequ, mean_price], axis=1)\n",
    "cluster['neighborhood'] = cluster.index\n",
    "cluster.columns = ['frequency', 'price_per_sqft','neighborhood']\n",
    "cluster.head(3)"
   ]
  },
  {
   "cell_type": "code",
   "execution_count": 29,
   "metadata": {},
   "outputs": [
    {
     "data": {
      "text/html": [
       "<div>\n",
       "<style scoped>\n",
       "    .dataframe tbody tr th:only-of-type {\n",
       "        vertical-align: middle;\n",
       "    }\n",
       "\n",
       "    .dataframe tbody tr th {\n",
       "        vertical-align: top;\n",
       "    }\n",
       "\n",
       "    .dataframe thead th {\n",
       "        text-align: right;\n",
       "    }\n",
       "</style>\n",
       "<table border=\"1\" class=\"dataframe\">\n",
       "  <thead>\n",
       "    <tr style=\"text-align: right;\">\n",
       "      <th></th>\n",
       "      <th>frequency</th>\n",
       "      <th>price_per_sqft</th>\n",
       "      <th>neighborhood</th>\n",
       "    </tr>\n",
       "    <tr>\n",
       "      <th>neighborhood</th>\n",
       "      <th></th>\n",
       "      <th></th>\n",
       "      <th></th>\n",
       "    </tr>\n",
       "  </thead>\n",
       "  <tbody>\n",
       "    <tr>\n",
       "      <th>Bayview</th>\n",
       "      <td>354</td>\n",
       "      <td>417.049058</td>\n",
       "      <td>Bayview</td>\n",
       "    </tr>\n",
       "    <tr>\n",
       "      <th>Bernal Heights</th>\n",
       "      <td>525</td>\n",
       "      <td>3158.199830</td>\n",
       "      <td>Bernal Heights</td>\n",
       "    </tr>\n",
       "    <tr>\n",
       "      <th>Buena Vista Park</th>\n",
       "      <td>70</td>\n",
       "      <td>952.912618</td>\n",
       "      <td>Buena Vista Park</td>\n",
       "    </tr>\n",
       "  </tbody>\n",
       "</table>\n",
       "</div>"
      ],
      "text/plain": [
       "                  frequency  price_per_sqft      neighborhood\n",
       "neighborhood                                                 \n",
       "Bayview                 354      417.049058           Bayview\n",
       "Bernal Heights          525     3158.199830    Bernal Heights\n",
       "Buena Vista Park         70      952.912618  Buena Vista Park"
      ]
     },
     "execution_count": 29,
     "metadata": {},
     "output_type": "execute_result"
    }
   ],
   "source": [
    "# rename the columns\n",
    "cluster.columns = ['frequency', 'price_per_sqft', 'neighborhood']\n",
    "cluster.head(3)"
   ]
  },
  {
   "cell_type": "code",
   "execution_count": 30,
   "metadata": {},
   "outputs": [
    {
     "data": {
      "text/html": [
       "<div>\n",
       "<style scoped>\n",
       "    .dataframe tbody tr th:only-of-type {\n",
       "        vertical-align: middle;\n",
       "    }\n",
       "\n",
       "    .dataframe tbody tr th {\n",
       "        vertical-align: top;\n",
       "    }\n",
       "\n",
       "    .dataframe thead th {\n",
       "        text-align: right;\n",
       "    }\n",
       "</style>\n",
       "<table border=\"1\" class=\"dataframe\">\n",
       "  <thead>\n",
       "    <tr style=\"text-align: right;\">\n",
       "      <th></th>\n",
       "      <th>count</th>\n",
       "      <th>mean</th>\n",
       "      <th>std</th>\n",
       "      <th>min</th>\n",
       "      <th>25%</th>\n",
       "      <th>50%</th>\n",
       "      <th>75%</th>\n",
       "      <th>max</th>\n",
       "    </tr>\n",
       "  </thead>\n",
       "  <tbody>\n",
       "    <tr>\n",
       "      <th>frequency</th>\n",
       "      <td>71.0</td>\n",
       "      <td>159.577465</td>\n",
       "      <td>126.572696</td>\n",
       "      <td>3.000000</td>\n",
       "      <td>67.500000</td>\n",
       "      <td>123.000000</td>\n",
       "      <td>210.500000</td>\n",
       "      <td>540.000000</td>\n",
       "    </tr>\n",
       "    <tr>\n",
       "      <th>price_per_sqft</th>\n",
       "      <td>71.0</td>\n",
       "      <td>1664.908308</td>\n",
       "      <td>3619.277749</td>\n",
       "      <td>374.201197</td>\n",
       "      <td>613.337664</td>\n",
       "      <td>756.246284</td>\n",
       "      <td>985.156646</td>\n",
       "      <td>26914.471572</td>\n",
       "    </tr>\n",
       "  </tbody>\n",
       "</table>\n",
       "</div>"
      ],
      "text/plain": [
       "                count         mean          std         min         25%  \\\n",
       "frequency        71.0   159.577465   126.572696    3.000000   67.500000   \n",
       "price_per_sqft   71.0  1664.908308  3619.277749  374.201197  613.337664   \n",
       "\n",
       "                       50%         75%           max  \n",
       "frequency       123.000000  210.500000    540.000000  \n",
       "price_per_sqft  756.246284  985.156646  26914.471572  "
      ]
     },
     "execution_count": 30,
     "metadata": {},
     "output_type": "execute_result"
    }
   ],
   "source": [
    "cluster.describe().T"
   ]
  },
  {
   "cell_type": "markdown",
   "metadata": {},
   "source": [
    "Now let's divide the neighborhoods into three clusters (of course we can divide it differentely) - \n",
    "   1. Low price, 2. High price low frequency, 3. High price high frequency"
   ]
  },
  {
   "cell_type": "code",
   "execution_count": 31,
   "metadata": {},
   "outputs": [
    {
     "data": {
      "text/plain": [
       "Index(['Bayview', 'Central Richmond', 'Central Sunset', 'Crocker Amazon',\n",
       "       'Daly City', 'Diamond Heights', 'Excelsior', 'Forest Hill',\n",
       "       'Forest Hill Extension', 'Golden Gate Heights', 'Ingleside',\n",
       "       'Ingleside Heights', 'Ingleside Terrace', 'Inner Parkside',\n",
       "       'Inner Richmond', 'Inner Sunset', 'Lakeshore', 'Little Hollywood',\n",
       "       'Merced Heights', 'Mission Terrace', 'Mount Davidson Manor',\n",
       "       'Oceanview', 'Outer Mission', 'Outer Parkside', 'Outer Richmond',\n",
       "       'Outer Sunset', 'Parkside', 'Portola', 'Silver Terrace', 'Sunnyside',\n",
       "       'Visitacion Valley', 'West Portal', 'Western Addition',\n",
       "       'Westwood Highlands', 'Westwood Park'],\n",
       "      dtype='object', name='neighborhood')"
      ]
     },
     "execution_count": 31,
     "metadata": {},
     "output_type": "execute_result"
    }
   ],
   "source": [
    "# price_per_sqft = 756 it's the 50% of the records\n",
    "cluster1 = cluster[cluster.price_per_sqft < 756]\n",
    "cluster1.index\n",
    "#len(cluster1)"
   ]
  },
  {
   "cell_type": "code",
   "execution_count": 32,
   "metadata": {},
   "outputs": [
    {
     "data": {
      "text/plain": [
       "Index(['Buena Vista Park', 'Central Waterfront - Dogpatch', 'Corona Heights',\n",
       "       'Haight-Ashbury', 'Lakeside', 'Lone Mountain', 'Midtown Terrace',\n",
       "       'North Beach', 'North Waterfront', 'Parnassus - Ashbury',\n",
       "       'Presidio Heights', 'Sea Cliff', 'St. Francis Wood', 'Telegraph Hill',\n",
       "       'Twin Peaks'],\n",
       "      dtype='object', name='neighborhood')"
      ]
     },
     "execution_count": 32,
     "metadata": {},
     "output_type": "execute_result"
    }
   ],
   "source": [
    "# This is my way - using a double condition\n",
    "# high_price low_freq\n",
    "cluster2 = cluster[ (cluster.price_per_sqft >= 756) & (cluster.frequency < 123) ]\n",
    "cluster2.index\n",
    "#len(cluster2)"
   ]
  },
  {
   "cell_type": "code",
   "execution_count": 33,
   "metadata": {},
   "outputs": [
    {
     "data": {
      "text/plain": [
       "Index(['Bernal Heights', 'Cow Hollow', 'Downtown',\n",
       "       'Eureka Valley - Dolores Heights - Castro', 'Glen Park', 'Hayes Valley',\n",
       "       'Lake', 'Lower Pacific Heights', 'Marina', 'Miraloma Park', 'Mission',\n",
       "       'Nob Hill', 'Noe Valley', 'North Panhandle', 'Pacific Heights',\n",
       "       'Potrero Hill', 'Russian Hill', 'South Beach', 'South of Market',\n",
       "       'Van Ness - Civic Center', 'Yerba Buena'],\n",
       "      dtype='object', name='neighborhood')"
      ]
     },
     "execution_count": 33,
     "metadata": {},
     "output_type": "execute_result"
    }
   ],
   "source": [
    "# frequency = 123 it's the 50% of the records\n",
    "# high_price high_freq\n",
    "cluster3 = cluster[ (cluster.price_per_sqft >= 756) & (cluster.frequency >= 123) ]\n",
    "cluster3.index\n",
    "#len(cluster3)"
   ]
  },
  {
   "cell_type": "markdown",
   "metadata": {},
   "source": [
    "Now we'll add a new column expresses the clustering we did here - "
   ]
  },
  {
   "cell_type": "code",
   "execution_count": 34,
   "metadata": {},
   "outputs": [],
   "source": [
    "# This function will label elements in the cluster \n",
    "def get_group(x):\n",
    "    if x in cluster1.index:\n",
    "    # we run on indices = names\n",
    "        return 'low_price'\n",
    "    elif x in cluster2.index:\n",
    "        return 'high_price_low_freq'\n",
    "    else:\n",
    "        return 'high_price_high_freq'"
   ]
  },
  {
   "cell_type": "code",
   "execution_count": 35,
   "metadata": {},
   "outputs": [],
   "source": [
    "# Applying on all features at once using 'apply'\n",
    "hf['clust_price'] = hf.neighborhood.apply(get_group)\n",
    "# We took the neighborhood column and applied on it at once"
   ]
  },
  {
   "cell_type": "code",
   "execution_count": 36,
   "metadata": {},
   "outputs": [],
   "source": [
    "# This function gets feature items and returns\n",
    "# how many times it appears in the feature\n",
    "def get_frequency(x):\n",
    "    a = pd.Index(frequ.index).get_loc(x)\n",
    "    return frequ.iloc[a]"
   ]
  },
  {
   "cell_type": "code",
   "execution_count": 37,
   "metadata": {},
   "outputs": [],
   "source": [
    "hf['neighborhood_frequency'] = hf.neighborhood.apply(get_frequency)"
   ]
  },
  {
   "cell_type": "code",
   "execution_count": 43,
   "metadata": {},
   "outputs": [
    {
     "data": {
      "text/plain": [
       "0        524\n",
       "1        524\n",
       "2        312\n",
       "3        312\n",
       "4        525\n",
       "        ... \n",
       "11325    206\n",
       "11326    524\n",
       "11327    104\n",
       "11328    181\n",
       "11329    525\n",
       "Name: neighborhood_frequency, Length: 11330, dtype: int64"
      ]
     },
     "execution_count": 43,
     "metadata": {},
     "output_type": "execute_result"
    }
   ],
   "source": [
    "hf['neighborhood_frequency']#.sort_values(ascending=False)"
   ]
  },
  {
   "cell_type": "code",
   "execution_count": 44,
   "metadata": {},
   "outputs": [],
   "source": [
    "from sklearn import preprocessing"
   ]
  },
  {
   "cell_type": "code",
   "execution_count": 45,
   "metadata": {},
   "outputs": [],
   "source": [
    "le = preprocessing.LabelEncoder()"
   ]
  },
  {
   "cell_type": "code",
   "execution_count": 46,
   "metadata": {},
   "outputs": [],
   "source": [
    "neighborhood_numbers = le.fit_transform(hf.neighborhood)"
   ]
  },
  {
   "cell_type": "code",
   "execution_count": 47,
   "metadata": {},
   "outputs": [],
   "source": [
    "hf['neighborhood_numbers'] = neighborhood_numbers"
   ]
  },
  {
   "cell_type": "code",
   "execution_count": 48,
   "metadata": {},
   "outputs": [
    {
     "data": {
      "text/html": [
       "<div>\n",
       "<style scoped>\n",
       "    .dataframe tbody tr th:only-of-type {\n",
       "        vertical-align: middle;\n",
       "    }\n",
       "\n",
       "    .dataframe tbody tr th {\n",
       "        vertical-align: top;\n",
       "    }\n",
       "\n",
       "    .dataframe thead th {\n",
       "        text-align: right;\n",
       "    }\n",
       "</style>\n",
       "<table border=\"1\" class=\"dataframe\">\n",
       "  <thead>\n",
       "    <tr style=\"text-align: right;\">\n",
       "      <th></th>\n",
       "      <th>address</th>\n",
       "      <th>bathrooms</th>\n",
       "      <th>bedrooms</th>\n",
       "      <th>finishedsqft</th>\n",
       "      <th>lastsolddate</th>\n",
       "      <th>lastsoldprice</th>\n",
       "      <th>latitude</th>\n",
       "      <th>longitude</th>\n",
       "      <th>neighborhood</th>\n",
       "      <th>totalrooms</th>\n",
       "      <th>usecode</th>\n",
       "      <th>yearbuilt</th>\n",
       "      <th>zindexvalue</th>\n",
       "      <th>price_per_sqft</th>\n",
       "      <th>clust_price</th>\n",
       "      <th>neighborhood_frequency</th>\n",
       "      <th>neighborhood_numbers</th>\n",
       "    </tr>\n",
       "  </thead>\n",
       "  <tbody>\n",
       "    <tr>\n",
       "      <th>0</th>\n",
       "      <td>Address: 1160 Mission Street #2007</td>\n",
       "      <td>2.0</td>\n",
       "      <td>2.0</td>\n",
       "      <td>1043.0</td>\n",
       "      <td>02/17/2016</td>\n",
       "      <td>1300000.0</td>\n",
       "      <td>37.778705</td>\n",
       "      <td>-122.412635</td>\n",
       "      <td>South of Market</td>\n",
       "      <td>4.0</td>\n",
       "      <td>Condominium</td>\n",
       "      <td>2007.0</td>\n",
       "      <td>975700</td>\n",
       "      <td>1246.404602</td>\n",
       "      <td>high_price_high_freq</td>\n",
       "      <td>524</td>\n",
       "      <td>59</td>\n",
       "    </tr>\n",
       "    <tr>\n",
       "      <th>1</th>\n",
       "      <td>Address: 260 King Street #475</td>\n",
       "      <td>1.0</td>\n",
       "      <td>1.0</td>\n",
       "      <td>903.0</td>\n",
       "      <td>02/17/2016</td>\n",
       "      <td>750000.0</td>\n",
       "      <td>37.777641</td>\n",
       "      <td>-122.393417</td>\n",
       "      <td>South of Market</td>\n",
       "      <td>3.0</td>\n",
       "      <td>Condominium</td>\n",
       "      <td>2004.0</td>\n",
       "      <td>975700</td>\n",
       "      <td>830.564784</td>\n",
       "      <td>high_price_high_freq</td>\n",
       "      <td>524</td>\n",
       "      <td>59</td>\n",
       "    </tr>\n",
       "  </tbody>\n",
       "</table>\n",
       "</div>"
      ],
      "text/plain": [
       "                              address  bathrooms  bedrooms  finishedsqft  \\\n",
       "0  Address: 1160 Mission Street #2007        2.0       2.0        1043.0   \n",
       "1       Address: 260 King Street #475        1.0       1.0         903.0   \n",
       "\n",
       "  lastsolddate  lastsoldprice   latitude   longitude     neighborhood  \\\n",
       "0   02/17/2016      1300000.0  37.778705 -122.412635  South of Market   \n",
       "1   02/17/2016       750000.0  37.777641 -122.393417  South of Market   \n",
       "\n",
       "   totalrooms      usecode  yearbuilt  zindexvalue  price_per_sqft  \\\n",
       "0         4.0  Condominium     2007.0       975700     1246.404602   \n",
       "1         3.0  Condominium     2004.0       975700      830.564784   \n",
       "\n",
       "            clust_price  neighborhood_frequency  neighborhood_numbers  \n",
       "0  high_price_high_freq                     524                    59  \n",
       "1  high_price_high_freq                     524                    59  "
      ]
     },
     "execution_count": 48,
     "metadata": {},
     "output_type": "execute_result"
    }
   ],
   "source": [
    "hf.head(2)"
   ]
  },
  {
   "cell_type": "code",
   "execution_count": null,
   "metadata": {},
   "outputs": [],
   "source": []
  },
  {
   "cell_type": "code",
   "execution_count": 49,
   "metadata": {},
   "outputs": [],
   "source": [
    "# Let's check how good was our clustering\n",
    "# for that we'll use KNN model. It will classify what's the label of each point.\n",
    "# the second step would be to compare this classification to it's predefined labels."
   ]
  },
  {
   "cell_type": "code",
   "execution_count": 50,
   "metadata": {},
   "outputs": [],
   "source": [
    "from sklearn.model_selection import train_test_split"
   ]
  },
  {
   "cell_type": "code",
   "execution_count": 51,
   "metadata": {},
   "outputs": [],
   "source": [
    "X_train, X_test, y_train, y_test = train_test_split(hf[ ['neighborhood_numbers',\n",
    "                                                         'price_per_sqft', 'neighborhood_frequency'] ],\n",
    "                                                    hf['clust_price'],test_size=0.33,random_state=42)"
   ]
  },
  {
   "cell_type": "code",
   "execution_count": 52,
   "metadata": {},
   "outputs": [],
   "source": [
    "from sklearn.neighbors import KNeighborsClassifier"
   ]
  },
  {
   "cell_type": "code",
   "execution_count": 53,
   "metadata": {},
   "outputs": [],
   "source": [
    "# in order to calssify our groups we must set numbers instead of neighb' names\n",
    "# we'll use label encoder"
   ]
  },
  {
   "cell_type": "code",
   "execution_count": 54,
   "metadata": {},
   "outputs": [],
   "source": [
    "# It is possible to make sensitivity check\n",
    "knn = KNeighborsClassifier(n_neighbors=5)"
   ]
  },
  {
   "cell_type": "code",
   "execution_count": 55,
   "metadata": {},
   "outputs": [
    {
     "data": {
      "text/plain": [
       "KNeighborsClassifier()"
      ]
     },
     "execution_count": 55,
     "metadata": {},
     "output_type": "execute_result"
    }
   ],
   "source": [
    "knn.fit(X_train,y_train)"
   ]
  },
  {
   "cell_type": "code",
   "execution_count": 56,
   "metadata": {},
   "outputs": [
    {
     "data": {
      "text/plain": [
       "0.9562639968383612"
      ]
     },
     "execution_count": 56,
     "metadata": {},
     "output_type": "execute_result"
    }
   ],
   "source": [
    "knn.score(X_train,y_train)"
   ]
  },
  {
   "cell_type": "code",
   "execution_count": 57,
   "metadata": {},
   "outputs": [
    {
     "data": {
      "text/plain": [
       "0.9253811179459749"
      ]
     },
     "execution_count": 57,
     "metadata": {},
     "output_type": "execute_result"
    }
   ],
   "source": [
    "knn.score(X_test,y_test)"
   ]
  },
  {
   "cell_type": "code",
   "execution_count": 58,
   "metadata": {},
   "outputs": [],
   "source": [
    "# High score on the test (92.5%). The clustering process worked fine\n",
    "# This maybe the place to remember trying WITHOUT this clustering process"
   ]
  },
  {
   "cell_type": "markdown",
   "metadata": {},
   "source": [
    "Finding and droping all irrelevant columns, or the ones with a weak correlation\n",
    "\n",
    "At this stage it's better to make a COPY here"
   ]
  },
  {
   "cell_type": "code",
   "execution_count": 58,
   "metadata": {},
   "outputs": [
    {
     "data": {
      "text/plain": [
       "Index(['address', 'bathrooms', 'bedrooms', 'finishedsqft', 'lastsolddate',\n",
       "       'lastsoldprice', 'latitude', 'longitude', 'neighborhood', 'totalrooms',\n",
       "       'usecode', 'yearbuilt', 'zindexvalue', 'price_per_sqft', 'clust_price',\n",
       "       'neighborhood_frequency', 'neighborhood_numbers'],\n",
       "      dtype='object')"
      ]
     },
     "execution_count": 58,
     "metadata": {},
     "output_type": "execute_result"
    }
   ],
   "source": [
    "hf.columns#[[0, 4, 6, 7, 8, 13]]"
   ]
  },
  {
   "cell_type": "code",
   "execution_count": 59,
   "metadata": {},
   "outputs": [],
   "source": [
    "hf1 = hf.drop(['address', 'lastsolddate', 'latitude', 'neighborhood_frequency',  \n",
    "               'neighborhood_numbers', 'longitude', 'neighborhood', 'price_per_sqft'], axis=1)"
   ]
  },
  {
   "cell_type": "code",
   "execution_count": 60,
   "metadata": {},
   "outputs": [
    {
     "data": {
      "text/html": [
       "<div>\n",
       "<style scoped>\n",
       "    .dataframe tbody tr th:only-of-type {\n",
       "        vertical-align: middle;\n",
       "    }\n",
       "\n",
       "    .dataframe tbody tr th {\n",
       "        vertical-align: top;\n",
       "    }\n",
       "\n",
       "    .dataframe thead th {\n",
       "        text-align: right;\n",
       "    }\n",
       "</style>\n",
       "<table border=\"1\" class=\"dataframe\">\n",
       "  <thead>\n",
       "    <tr style=\"text-align: right;\">\n",
       "      <th></th>\n",
       "      <th>bathrooms</th>\n",
       "      <th>bedrooms</th>\n",
       "      <th>finishedsqft</th>\n",
       "      <th>lastsoldprice</th>\n",
       "      <th>totalrooms</th>\n",
       "      <th>usecode</th>\n",
       "      <th>yearbuilt</th>\n",
       "      <th>zindexvalue</th>\n",
       "      <th>clust_price</th>\n",
       "    </tr>\n",
       "  </thead>\n",
       "  <tbody>\n",
       "    <tr>\n",
       "      <th>0</th>\n",
       "      <td>2.0</td>\n",
       "      <td>2.0</td>\n",
       "      <td>1043.0</td>\n",
       "      <td>1300000.0</td>\n",
       "      <td>4.0</td>\n",
       "      <td>Condominium</td>\n",
       "      <td>2007.0</td>\n",
       "      <td>975700</td>\n",
       "      <td>high_price_high_freq</td>\n",
       "    </tr>\n",
       "    <tr>\n",
       "      <th>1</th>\n",
       "      <td>1.0</td>\n",
       "      <td>1.0</td>\n",
       "      <td>903.0</td>\n",
       "      <td>750000.0</td>\n",
       "      <td>3.0</td>\n",
       "      <td>Condominium</td>\n",
       "      <td>2004.0</td>\n",
       "      <td>975700</td>\n",
       "      <td>high_price_high_freq</td>\n",
       "    </tr>\n",
       "    <tr>\n",
       "      <th>2</th>\n",
       "      <td>4.0</td>\n",
       "      <td>3.0</td>\n",
       "      <td>1425.0</td>\n",
       "      <td>1495000.0</td>\n",
       "      <td>6.0</td>\n",
       "      <td>Condominium</td>\n",
       "      <td>2003.0</td>\n",
       "      <td>1277600</td>\n",
       "      <td>high_price_high_freq</td>\n",
       "    </tr>\n",
       "    <tr>\n",
       "      <th>3</th>\n",
       "      <td>3.0</td>\n",
       "      <td>3.0</td>\n",
       "      <td>2231.0</td>\n",
       "      <td>2700000.0</td>\n",
       "      <td>10.0</td>\n",
       "      <td>SingleFamily</td>\n",
       "      <td>1927.0</td>\n",
       "      <td>1277600</td>\n",
       "      <td>high_price_high_freq</td>\n",
       "    </tr>\n",
       "    <tr>\n",
       "      <th>4</th>\n",
       "      <td>3.0</td>\n",
       "      <td>3.0</td>\n",
       "      <td>1300.0</td>\n",
       "      <td>1530000.0</td>\n",
       "      <td>4.0</td>\n",
       "      <td>SingleFamily</td>\n",
       "      <td>1900.0</td>\n",
       "      <td>1248000</td>\n",
       "      <td>high_price_high_freq</td>\n",
       "    </tr>\n",
       "  </tbody>\n",
       "</table>\n",
       "</div>"
      ],
      "text/plain": [
       "   bathrooms  bedrooms  finishedsqft  lastsoldprice  totalrooms       usecode  \\\n",
       "0        2.0       2.0        1043.0      1300000.0         4.0   Condominium   \n",
       "1        1.0       1.0         903.0       750000.0         3.0   Condominium   \n",
       "2        4.0       3.0        1425.0      1495000.0         6.0   Condominium   \n",
       "3        3.0       3.0        2231.0      2700000.0        10.0  SingleFamily   \n",
       "4        3.0       3.0        1300.0      1530000.0         4.0  SingleFamily   \n",
       "\n",
       "   yearbuilt  zindexvalue           clust_price  \n",
       "0     2007.0       975700  high_price_high_freq  \n",
       "1     2004.0       975700  high_price_high_freq  \n",
       "2     2003.0      1277600  high_price_high_freq  \n",
       "3     1927.0      1277600  high_price_high_freq  \n",
       "4     1900.0      1248000  high_price_high_freq  "
      ]
     },
     "execution_count": 60,
     "metadata": {},
     "output_type": "execute_result"
    }
   ],
   "source": [
    "hf1.head()"
   ]
  },
  {
   "cell_type": "markdown",
   "metadata": {},
   "source": [
    "#### **Now we work with hf1 as our dataframe**"
   ]
  },
  {
   "cell_type": "markdown",
   "metadata": {},
   "source": [
    "### How can we reorganize the features so 'lastsoldprice' will be the last?"
   ]
  },
  {
   "cell_type": "code",
   "execution_count": 61,
   "metadata": {},
   "outputs": [
    {
     "data": {
      "text/plain": [
       "Index(['bathrooms', 'bedrooms', 'finishedsqft', 'lastsoldprice', 'totalrooms',\n",
       "       'usecode', 'yearbuilt', 'zindexvalue', 'clust_price'],\n",
       "      dtype='object')"
      ]
     },
     "execution_count": 61,
     "metadata": {},
     "output_type": "execute_result"
    }
   ],
   "source": [
    "hf1.columns"
   ]
  },
  {
   "cell_type": "code",
   "execution_count": 62,
   "metadata": {},
   "outputs": [],
   "source": [
    "# just giving the names in a list with the desired order\n",
    "hf1 = hf1[ ['bathrooms', 'bedrooms', 'finishedsqft', 'totalrooms',\n",
    "          'usecode', 'yearbuilt', 'zindexvalue', 'clust_price', 'lastsoldprice'] ]"
   ]
  },
  {
   "cell_type": "code",
   "execution_count": 63,
   "metadata": {},
   "outputs": [
    {
     "data": {
      "text/html": [
       "<div>\n",
       "<style scoped>\n",
       "    .dataframe tbody tr th:only-of-type {\n",
       "        vertical-align: middle;\n",
       "    }\n",
       "\n",
       "    .dataframe tbody tr th {\n",
       "        vertical-align: top;\n",
       "    }\n",
       "\n",
       "    .dataframe thead th {\n",
       "        text-align: right;\n",
       "    }\n",
       "</style>\n",
       "<table border=\"1\" class=\"dataframe\">\n",
       "  <thead>\n",
       "    <tr style=\"text-align: right;\">\n",
       "      <th></th>\n",
       "      <th>bathrooms</th>\n",
       "      <th>bedrooms</th>\n",
       "      <th>finishedsqft</th>\n",
       "      <th>totalrooms</th>\n",
       "      <th>usecode</th>\n",
       "      <th>yearbuilt</th>\n",
       "      <th>zindexvalue</th>\n",
       "      <th>clust_price</th>\n",
       "      <th>lastsoldprice</th>\n",
       "    </tr>\n",
       "  </thead>\n",
       "  <tbody>\n",
       "    <tr>\n",
       "      <th>0</th>\n",
       "      <td>2.0</td>\n",
       "      <td>2.0</td>\n",
       "      <td>1043.0</td>\n",
       "      <td>4.0</td>\n",
       "      <td>Condominium</td>\n",
       "      <td>2007.0</td>\n",
       "      <td>975700</td>\n",
       "      <td>high_price_high_freq</td>\n",
       "      <td>1300000.0</td>\n",
       "    </tr>\n",
       "    <tr>\n",
       "      <th>1</th>\n",
       "      <td>1.0</td>\n",
       "      <td>1.0</td>\n",
       "      <td>903.0</td>\n",
       "      <td>3.0</td>\n",
       "      <td>Condominium</td>\n",
       "      <td>2004.0</td>\n",
       "      <td>975700</td>\n",
       "      <td>high_price_high_freq</td>\n",
       "      <td>750000.0</td>\n",
       "    </tr>\n",
       "  </tbody>\n",
       "</table>\n",
       "</div>"
      ],
      "text/plain": [
       "   bathrooms  bedrooms  finishedsqft  totalrooms      usecode  yearbuilt  \\\n",
       "0        2.0       2.0        1043.0         4.0  Condominium     2007.0   \n",
       "1        1.0       1.0         903.0         3.0  Condominium     2004.0   \n",
       "\n",
       "   zindexvalue           clust_price  lastsoldprice  \n",
       "0       975700  high_price_high_freq      1300000.0  \n",
       "1       975700  high_price_high_freq       750000.0  "
      ]
     },
     "execution_count": 63,
     "metadata": {},
     "output_type": "execute_result"
    }
   ],
   "source": [
    "hf1.head(2)"
   ]
  },
  {
   "cell_type": "markdown",
   "metadata": {},
   "source": [
    "### Getting ready for the models, creating X and y"
   ]
  },
  {
   "cell_type": "code",
   "execution_count": 64,
   "metadata": {},
   "outputs": [],
   "source": [
    "X = hf1.drop(['lastsoldprice'], axis=1)\n",
    "y = hf1['lastsoldprice']"
   ]
  },
  {
   "cell_type": "markdown",
   "metadata": {},
   "source": [
    "Let's create dummy variables for 'usecode' and 'clust_price'"
   ]
  },
  {
   "cell_type": "code",
   "execution_count": 132,
   "metadata": {},
   "outputs": [],
   "source": [
    "X = pd.get_dummies(X,columns=['usecode','clust_price'],drop_first=True)"
   ]
  },
  {
   "cell_type": "markdown",
   "metadata": {},
   "source": [
    "Instead of dummies, let's see the result with label encoder..."
   ]
  },
  {
   "cell_type": "code",
   "execution_count": 65,
   "metadata": {},
   "outputs": [],
   "source": [
    "usecode_numbers = le.fit_transform(hf.usecode)"
   ]
  },
  {
   "cell_type": "code",
   "execution_count": 66,
   "metadata": {},
   "outputs": [],
   "source": [
    "clust_price_numbers = le.fit_transform(hf.clust_price)"
   ]
  },
  {
   "cell_type": "code",
   "execution_count": 72,
   "metadata": {},
   "outputs": [],
   "source": [
    "X['usecode_numbers'] = usecode_numbers\n",
    "X['clust_price_numbers'] = clust_price_numbers\n",
    "X.drop(['clust_price', 'usecode'], axis=1, inplace=True)"
   ]
  },
  {
   "cell_type": "code",
   "execution_count": 74,
   "metadata": {},
   "outputs": [
    {
     "data": {
      "text/html": [
       "<div>\n",
       "<style scoped>\n",
       "    .dataframe tbody tr th:only-of-type {\n",
       "        vertical-align: middle;\n",
       "    }\n",
       "\n",
       "    .dataframe tbody tr th {\n",
       "        vertical-align: top;\n",
       "    }\n",
       "\n",
       "    .dataframe thead th {\n",
       "        text-align: right;\n",
       "    }\n",
       "</style>\n",
       "<table border=\"1\" class=\"dataframe\">\n",
       "  <thead>\n",
       "    <tr style=\"text-align: right;\">\n",
       "      <th></th>\n",
       "      <th>bathrooms</th>\n",
       "      <th>bedrooms</th>\n",
       "      <th>finishedsqft</th>\n",
       "      <th>totalrooms</th>\n",
       "      <th>yearbuilt</th>\n",
       "      <th>zindexvalue</th>\n",
       "      <th>usecode_numbers</th>\n",
       "      <th>clust_price_numbers</th>\n",
       "    </tr>\n",
       "  </thead>\n",
       "  <tbody>\n",
       "    <tr>\n",
       "      <th>11328</th>\n",
       "      <td>1.0</td>\n",
       "      <td>2.0</td>\n",
       "      <td>697.0</td>\n",
       "      <td>4.0</td>\n",
       "      <td>1904.0</td>\n",
       "      <td>1030300</td>\n",
       "      <td>8</td>\n",
       "      <td>2</td>\n",
       "    </tr>\n",
       "    <tr>\n",
       "      <th>11329</th>\n",
       "      <td>2.0</td>\n",
       "      <td>3.0</td>\n",
       "      <td>1539.0</td>\n",
       "      <td>7.0</td>\n",
       "      <td>1976.0</td>\n",
       "      <td>1214400</td>\n",
       "      <td>8</td>\n",
       "      <td>0</td>\n",
       "    </tr>\n",
       "  </tbody>\n",
       "</table>\n",
       "</div>"
      ],
      "text/plain": [
       "       bathrooms  bedrooms  finishedsqft  totalrooms  yearbuilt  zindexvalue  \\\n",
       "11328        1.0       2.0         697.0         4.0     1904.0      1030300   \n",
       "11329        2.0       3.0        1539.0         7.0     1976.0      1214400   \n",
       "\n",
       "       usecode_numbers  clust_price_numbers  \n",
       "11328                8                    2  \n",
       "11329                8                    0  "
      ]
     },
     "execution_count": 74,
     "metadata": {},
     "output_type": "execute_result"
    }
   ],
   "source": [
    "X.tail(2)"
   ]
  },
  {
   "cell_type": "code",
   "execution_count": 75,
   "metadata": {},
   "outputs": [
    {
     "data": {
      "text/plain": [
       "Index(['bathrooms', 'bedrooms', 'finishedsqft', 'totalrooms', 'yearbuilt',\n",
       "       'zindexvalue', 'usecode_numbers', 'clust_price_numbers'],\n",
       "      dtype='object')"
      ]
     },
     "execution_count": 75,
     "metadata": {},
     "output_type": "execute_result"
    }
   ],
   "source": [
    "col_names = X.columns\n",
    "col_names"
   ]
  },
  {
   "cell_type": "markdown",
   "metadata": {},
   "source": [
    "Scaling our data (big range of values)"
   ]
  },
  {
   "cell_type": "markdown",
   "metadata": {},
   "source": [
    "### We have categorical features - so we CAN'T scale!!!"
   ]
  },
  {
   "cell_type": "code",
   "execution_count": 272,
   "metadata": {},
   "outputs": [],
   "source": [
    "# When we do \"scale\" maybe it's better to use another parameter\n",
    "# The problem is that the properties of X as a dataframe has lost (columns etc.)\n",
    "from sklearn.preprocessing import StandardScaler, MinMaxScaler\n",
    "scaler1 = StandardScaler()\n",
    "#X = scaler1.fit_transform(X)"
   ]
  },
  {
   "cell_type": "markdown",
   "metadata": {},
   "source": [
    "### Trying to overcome this problem using MinMaxScaler (between 0 to 1)"
   ]
  },
  {
   "cell_type": "code",
   "execution_count": 274,
   "metadata": {},
   "outputs": [
    {
     "data": {
      "text/html": [
       "<div>\n",
       "<style scoped>\n",
       "    .dataframe tbody tr th:only-of-type {\n",
       "        vertical-align: middle;\n",
       "    }\n",
       "\n",
       "    .dataframe tbody tr th {\n",
       "        vertical-align: top;\n",
       "    }\n",
       "\n",
       "    .dataframe thead th {\n",
       "        text-align: right;\n",
       "    }\n",
       "</style>\n",
       "<table border=\"1\" class=\"dataframe\">\n",
       "  <thead>\n",
       "    <tr style=\"text-align: right;\">\n",
       "      <th></th>\n",
       "      <th>bathrooms</th>\n",
       "      <th>bedrooms</th>\n",
       "      <th>finishedsqft</th>\n",
       "      <th>totalrooms</th>\n",
       "      <th>yearbuilt</th>\n",
       "      <th>zindexvalue</th>\n",
       "    </tr>\n",
       "  </thead>\n",
       "  <tbody>\n",
       "    <tr>\n",
       "      <th>0</th>\n",
       "      <td>2.0</td>\n",
       "      <td>2.0</td>\n",
       "      <td>1043.0</td>\n",
       "      <td>4.0</td>\n",
       "      <td>2007.0</td>\n",
       "      <td>975700</td>\n",
       "    </tr>\n",
       "    <tr>\n",
       "      <th>1</th>\n",
       "      <td>1.0</td>\n",
       "      <td>1.0</td>\n",
       "      <td>903.0</td>\n",
       "      <td>3.0</td>\n",
       "      <td>2004.0</td>\n",
       "      <td>975700</td>\n",
       "    </tr>\n",
       "    <tr>\n",
       "      <th>2</th>\n",
       "      <td>4.0</td>\n",
       "      <td>3.0</td>\n",
       "      <td>1425.0</td>\n",
       "      <td>6.0</td>\n",
       "      <td>2003.0</td>\n",
       "      <td>1277600</td>\n",
       "    </tr>\n",
       "    <tr>\n",
       "      <th>3</th>\n",
       "      <td>3.0</td>\n",
       "      <td>3.0</td>\n",
       "      <td>2231.0</td>\n",
       "      <td>10.0</td>\n",
       "      <td>1927.0</td>\n",
       "      <td>1277600</td>\n",
       "    </tr>\n",
       "    <tr>\n",
       "      <th>4</th>\n",
       "      <td>3.0</td>\n",
       "      <td>3.0</td>\n",
       "      <td>1300.0</td>\n",
       "      <td>4.0</td>\n",
       "      <td>1900.0</td>\n",
       "      <td>1248000</td>\n",
       "    </tr>\n",
       "    <tr>\n",
       "      <th>...</th>\n",
       "      <td>...</td>\n",
       "      <td>...</td>\n",
       "      <td>...</td>\n",
       "      <td>...</td>\n",
       "      <td>...</td>\n",
       "      <td>...</td>\n",
       "    </tr>\n",
       "    <tr>\n",
       "      <th>11325</th>\n",
       "      <td>2.0</td>\n",
       "      <td>3.0</td>\n",
       "      <td>2100.0</td>\n",
       "      <td>10.0</td>\n",
       "      <td>1900.0</td>\n",
       "      <td>1628900</td>\n",
       "    </tr>\n",
       "    <tr>\n",
       "      <th>11326</th>\n",
       "      <td>2.0</td>\n",
       "      <td>2.0</td>\n",
       "      <td>977.0</td>\n",
       "      <td>5.0</td>\n",
       "      <td>2006.0</td>\n",
       "      <td>957300</td>\n",
       "    </tr>\n",
       "    <tr>\n",
       "      <th>11327</th>\n",
       "      <td>1.0</td>\n",
       "      <td>2.0</td>\n",
       "      <td>875.0</td>\n",
       "      <td>4.0</td>\n",
       "      <td>1950.0</td>\n",
       "      <td>804400</td>\n",
       "    </tr>\n",
       "    <tr>\n",
       "      <th>11328</th>\n",
       "      <td>1.0</td>\n",
       "      <td>2.0</td>\n",
       "      <td>697.0</td>\n",
       "      <td>4.0</td>\n",
       "      <td>1904.0</td>\n",
       "      <td>1030300</td>\n",
       "    </tr>\n",
       "    <tr>\n",
       "      <th>11329</th>\n",
       "      <td>2.0</td>\n",
       "      <td>3.0</td>\n",
       "      <td>1539.0</td>\n",
       "      <td>7.0</td>\n",
       "      <td>1976.0</td>\n",
       "      <td>1214400</td>\n",
       "    </tr>\n",
       "  </tbody>\n",
       "</table>\n",
       "<p>11330 rows × 6 columns</p>\n",
       "</div>"
      ],
      "text/plain": [
       "       bathrooms  bedrooms  finishedsqft  totalrooms  yearbuilt  zindexvalue\n",
       "0            2.0       2.0        1043.0         4.0     2007.0       975700\n",
       "1            1.0       1.0         903.0         3.0     2004.0       975700\n",
       "2            4.0       3.0        1425.0         6.0     2003.0      1277600\n",
       "3            3.0       3.0        2231.0        10.0     1927.0      1277600\n",
       "4            3.0       3.0        1300.0         4.0     1900.0      1248000\n",
       "...          ...       ...           ...         ...        ...          ...\n",
       "11325        2.0       3.0        2100.0        10.0     1900.0      1628900\n",
       "11326        2.0       2.0         977.0         5.0     2006.0       957300\n",
       "11327        1.0       2.0         875.0         4.0     1950.0       804400\n",
       "11328        1.0       2.0         697.0         4.0     1904.0      1030300\n",
       "11329        2.0       3.0        1539.0         7.0     1976.0      1214400\n",
       "\n",
       "[11330 rows x 6 columns]"
      ]
     },
     "execution_count": 274,
     "metadata": {},
     "output_type": "execute_result"
    }
   ],
   "source": [
    "X.columns[range(6)]\n",
    "X.iloc[:,0:6]"
   ]
  },
  {
   "cell_type": "code",
   "execution_count": 275,
   "metadata": {},
   "outputs": [],
   "source": [
    "scaler2 = MinMaxScaler()\n",
    "X.iloc[:,0:6] = scaler2.fit_transform(X.iloc[:,0:6])"
   ]
  },
  {
   "cell_type": "code",
   "execution_count": 135,
   "metadata": {},
   "outputs": [
    {
     "data": {
      "text/html": [
       "<div>\n",
       "<style scoped>\n",
       "    .dataframe tbody tr th:only-of-type {\n",
       "        vertical-align: middle;\n",
       "    }\n",
       "\n",
       "    .dataframe tbody tr th {\n",
       "        vertical-align: top;\n",
       "    }\n",
       "\n",
       "    .dataframe thead th {\n",
       "        text-align: right;\n",
       "    }\n",
       "</style>\n",
       "<table border=\"1\" class=\"dataframe\">\n",
       "  <thead>\n",
       "    <tr style=\"text-align: right;\">\n",
       "      <th></th>\n",
       "      <th>bathrooms</th>\n",
       "      <th>bedrooms</th>\n",
       "      <th>finishedsqft</th>\n",
       "      <th>totalrooms</th>\n",
       "      <th>yearbuilt</th>\n",
       "      <th>zindexvalue</th>\n",
       "      <th>usecode_Condominium</th>\n",
       "      <th>usecode_Cooperative</th>\n",
       "      <th>usecode_Duplex</th>\n",
       "      <th>usecode_Miscellaneous</th>\n",
       "      <th>usecode_Mobile</th>\n",
       "      <th>usecode_MultiFamily2To4</th>\n",
       "      <th>usecode_MultiFamily5Plus</th>\n",
       "      <th>usecode_SingleFamily</th>\n",
       "      <th>usecode_Townhouse</th>\n",
       "      <th>clust_price_high_price_low_freq</th>\n",
       "      <th>clust_price_low_price</th>\n",
       "    </tr>\n",
       "  </thead>\n",
       "  <tbody>\n",
       "    <tr>\n",
       "      <th>0</th>\n",
       "      <td>2.0</td>\n",
       "      <td>2.0</td>\n",
       "      <td>1043.0</td>\n",
       "      <td>4.0</td>\n",
       "      <td>2007.0</td>\n",
       "      <td>975700</td>\n",
       "      <td>1</td>\n",
       "      <td>0</td>\n",
       "      <td>0</td>\n",
       "      <td>0</td>\n",
       "      <td>0</td>\n",
       "      <td>0</td>\n",
       "      <td>0</td>\n",
       "      <td>0</td>\n",
       "      <td>0</td>\n",
       "      <td>0</td>\n",
       "      <td>0</td>\n",
       "    </tr>\n",
       "    <tr>\n",
       "      <th>1</th>\n",
       "      <td>1.0</td>\n",
       "      <td>1.0</td>\n",
       "      <td>903.0</td>\n",
       "      <td>3.0</td>\n",
       "      <td>2004.0</td>\n",
       "      <td>975700</td>\n",
       "      <td>1</td>\n",
       "      <td>0</td>\n",
       "      <td>0</td>\n",
       "      <td>0</td>\n",
       "      <td>0</td>\n",
       "      <td>0</td>\n",
       "      <td>0</td>\n",
       "      <td>0</td>\n",
       "      <td>0</td>\n",
       "      <td>0</td>\n",
       "      <td>0</td>\n",
       "    </tr>\n",
       "    <tr>\n",
       "      <th>2</th>\n",
       "      <td>4.0</td>\n",
       "      <td>3.0</td>\n",
       "      <td>1425.0</td>\n",
       "      <td>6.0</td>\n",
       "      <td>2003.0</td>\n",
       "      <td>1277600</td>\n",
       "      <td>1</td>\n",
       "      <td>0</td>\n",
       "      <td>0</td>\n",
       "      <td>0</td>\n",
       "      <td>0</td>\n",
       "      <td>0</td>\n",
       "      <td>0</td>\n",
       "      <td>0</td>\n",
       "      <td>0</td>\n",
       "      <td>0</td>\n",
       "      <td>0</td>\n",
       "    </tr>\n",
       "    <tr>\n",
       "      <th>3</th>\n",
       "      <td>3.0</td>\n",
       "      <td>3.0</td>\n",
       "      <td>2231.0</td>\n",
       "      <td>10.0</td>\n",
       "      <td>1927.0</td>\n",
       "      <td>1277600</td>\n",
       "      <td>0</td>\n",
       "      <td>0</td>\n",
       "      <td>0</td>\n",
       "      <td>0</td>\n",
       "      <td>0</td>\n",
       "      <td>0</td>\n",
       "      <td>0</td>\n",
       "      <td>1</td>\n",
       "      <td>0</td>\n",
       "      <td>0</td>\n",
       "      <td>0</td>\n",
       "    </tr>\n",
       "    <tr>\n",
       "      <th>4</th>\n",
       "      <td>3.0</td>\n",
       "      <td>3.0</td>\n",
       "      <td>1300.0</td>\n",
       "      <td>4.0</td>\n",
       "      <td>1900.0</td>\n",
       "      <td>1248000</td>\n",
       "      <td>0</td>\n",
       "      <td>0</td>\n",
       "      <td>0</td>\n",
       "      <td>0</td>\n",
       "      <td>0</td>\n",
       "      <td>0</td>\n",
       "      <td>0</td>\n",
       "      <td>1</td>\n",
       "      <td>0</td>\n",
       "      <td>0</td>\n",
       "      <td>0</td>\n",
       "    </tr>\n",
       "    <tr>\n",
       "      <th>5</th>\n",
       "      <td>1.0</td>\n",
       "      <td>2.0</td>\n",
       "      <td>1250.0</td>\n",
       "      <td>5.0</td>\n",
       "      <td>1924.0</td>\n",
       "      <td>823000</td>\n",
       "      <td>0</td>\n",
       "      <td>0</td>\n",
       "      <td>0</td>\n",
       "      <td>0</td>\n",
       "      <td>0</td>\n",
       "      <td>0</td>\n",
       "      <td>0</td>\n",
       "      <td>1</td>\n",
       "      <td>0</td>\n",
       "      <td>0</td>\n",
       "      <td>1</td>\n",
       "    </tr>\n",
       "    <tr>\n",
       "      <th>6</th>\n",
       "      <td>1.0</td>\n",
       "      <td>3.0</td>\n",
       "      <td>1032.0</td>\n",
       "      <td>6.0</td>\n",
       "      <td>1939.0</td>\n",
       "      <td>762700</td>\n",
       "      <td>0</td>\n",
       "      <td>0</td>\n",
       "      <td>0</td>\n",
       "      <td>0</td>\n",
       "      <td>0</td>\n",
       "      <td>0</td>\n",
       "      <td>0</td>\n",
       "      <td>1</td>\n",
       "      <td>0</td>\n",
       "      <td>0</td>\n",
       "      <td>1</td>\n",
       "    </tr>\n",
       "    <tr>\n",
       "      <th>7</th>\n",
       "      <td>1.0</td>\n",
       "      <td>2.0</td>\n",
       "      <td>1200.0</td>\n",
       "      <td>5.0</td>\n",
       "      <td>1924.0</td>\n",
       "      <td>992600</td>\n",
       "      <td>0</td>\n",
       "      <td>0</td>\n",
       "      <td>0</td>\n",
       "      <td>0</td>\n",
       "      <td>0</td>\n",
       "      <td>0</td>\n",
       "      <td>0</td>\n",
       "      <td>1</td>\n",
       "      <td>0</td>\n",
       "      <td>0</td>\n",
       "      <td>1</td>\n",
       "    </tr>\n",
       "    <tr>\n",
       "      <th>8</th>\n",
       "      <td>3.5</td>\n",
       "      <td>4.0</td>\n",
       "      <td>2700.0</td>\n",
       "      <td>9.0</td>\n",
       "      <td>1912.0</td>\n",
       "      <td>1782000</td>\n",
       "      <td>0</td>\n",
       "      <td>0</td>\n",
       "      <td>0</td>\n",
       "      <td>0</td>\n",
       "      <td>0</td>\n",
       "      <td>0</td>\n",
       "      <td>0</td>\n",
       "      <td>1</td>\n",
       "      <td>0</td>\n",
       "      <td>0</td>\n",
       "      <td>0</td>\n",
       "    </tr>\n",
       "    <tr>\n",
       "      <th>9</th>\n",
       "      <td>2.0</td>\n",
       "      <td>3.0</td>\n",
       "      <td>2016.0</td>\n",
       "      <td>7.0</td>\n",
       "      <td>1890.0</td>\n",
       "      <td>1224800</td>\n",
       "      <td>1</td>\n",
       "      <td>0</td>\n",
       "      <td>0</td>\n",
       "      <td>0</td>\n",
       "      <td>0</td>\n",
       "      <td>0</td>\n",
       "      <td>0</td>\n",
       "      <td>0</td>\n",
       "      <td>0</td>\n",
       "      <td>0</td>\n",
       "      <td>0</td>\n",
       "    </tr>\n",
       "  </tbody>\n",
       "</table>\n",
       "</div>"
      ],
      "text/plain": [
       "   bathrooms  bedrooms  finishedsqft  totalrooms  yearbuilt  zindexvalue  \\\n",
       "0        2.0       2.0        1043.0         4.0     2007.0       975700   \n",
       "1        1.0       1.0         903.0         3.0     2004.0       975700   \n",
       "2        4.0       3.0        1425.0         6.0     2003.0      1277600   \n",
       "3        3.0       3.0        2231.0        10.0     1927.0      1277600   \n",
       "4        3.0       3.0        1300.0         4.0     1900.0      1248000   \n",
       "5        1.0       2.0        1250.0         5.0     1924.0       823000   \n",
       "6        1.0       3.0        1032.0         6.0     1939.0       762700   \n",
       "7        1.0       2.0        1200.0         5.0     1924.0       992600   \n",
       "8        3.5       4.0        2700.0         9.0     1912.0      1782000   \n",
       "9        2.0       3.0        2016.0         7.0     1890.0      1224800   \n",
       "\n",
       "   usecode_Condominium  usecode_Cooperative  usecode_Duplex  \\\n",
       "0                    1                    0               0   \n",
       "1                    1                    0               0   \n",
       "2                    1                    0               0   \n",
       "3                    0                    0               0   \n",
       "4                    0                    0               0   \n",
       "5                    0                    0               0   \n",
       "6                    0                    0               0   \n",
       "7                    0                    0               0   \n",
       "8                    0                    0               0   \n",
       "9                    1                    0               0   \n",
       "\n",
       "   usecode_Miscellaneous  usecode_Mobile  usecode_MultiFamily2To4  \\\n",
       "0                      0               0                        0   \n",
       "1                      0               0                        0   \n",
       "2                      0               0                        0   \n",
       "3                      0               0                        0   \n",
       "4                      0               0                        0   \n",
       "5                      0               0                        0   \n",
       "6                      0               0                        0   \n",
       "7                      0               0                        0   \n",
       "8                      0               0                        0   \n",
       "9                      0               0                        0   \n",
       "\n",
       "   usecode_MultiFamily5Plus  usecode_SingleFamily  usecode_Townhouse  \\\n",
       "0                         0                     0                  0   \n",
       "1                         0                     0                  0   \n",
       "2                         0                     0                  0   \n",
       "3                         0                     1                  0   \n",
       "4                         0                     1                  0   \n",
       "5                         0                     1                  0   \n",
       "6                         0                     1                  0   \n",
       "7                         0                     1                  0   \n",
       "8                         0                     1                  0   \n",
       "9                         0                     0                  0   \n",
       "\n",
       "   clust_price_high_price_low_freq  clust_price_low_price  \n",
       "0                                0                      0  \n",
       "1                                0                      0  \n",
       "2                                0                      0  \n",
       "3                                0                      0  \n",
       "4                                0                      0  \n",
       "5                                0                      1  \n",
       "6                                0                      1  \n",
       "7                                0                      1  \n",
       "8                                0                      0  \n",
       "9                                0                      0  "
      ]
     },
     "execution_count": 135,
     "metadata": {},
     "output_type": "execute_result"
    }
   ],
   "source": [
    "X.head(10)"
   ]
  },
  {
   "cell_type": "code",
   "execution_count": 279,
   "metadata": {},
   "outputs": [],
   "source": [
    "### Very nice!!\n",
    "### Because I worked only on specific row, I don't need to concatanate\n",
    "### It was done automatically :-)"
   ]
  },
  {
   "cell_type": "code",
   "execution_count": 76,
   "metadata": {},
   "outputs": [],
   "source": [
    "from sklearn.model_selection import train_test_split"
   ]
  },
  {
   "cell_type": "code",
   "execution_count": 77,
   "metadata": {},
   "outputs": [],
   "source": [
    "X_train, X_test, y_train, y_test = train_test_split(X, y, test_size=0.33, random_state=42)"
   ]
  },
  {
   "cell_type": "markdown",
   "metadata": {},
   "source": [
    "### All types of Models --"
   ]
  },
  {
   "cell_type": "code",
   "execution_count": 78,
   "metadata": {},
   "outputs": [],
   "source": [
    "from sklearn import svm\n",
    "from sklearn.svm import SVC\n",
    "import sklearn.tree as skt\n",
    "import sklearn.linear_model as skl\n",
    "import sklearn.naive_bayes as sknb\n",
    "from sklearn.ensemble import RandomForestRegressor, GradientBoostingRegressor, VotingRegressor\n",
    "from sklearn.neighbors import KNeighborsRegressor"
   ]
  },
  {
   "cell_type": "code",
   "execution_count": 81,
   "metadata": {},
   "outputs": [],
   "source": [
    "def model_score(X,y,model):\n",
    "    global M\n",
    "    if model == 'LR':\n",
    "        model = skl.LinearRegression()\n",
    "    elif model == 'DT': \n",
    "        model = skt.DecisionTreeRegressor()\n",
    "    elif model == 'RF':\n",
    "        model = RandomForestRegressor(max_depth=6)\n",
    "    elif model == 'KNN':\n",
    "        model = KNeighborsRegressor(n_neighbors=10)\n",
    "    elif model == 'GBR':\n",
    "        model = GradientBoostingRegressor(max_depth=4) \n",
    "    X_train, X_test, y_train, y_test = train_test_split(X, y, test_size=0.33, random_state=42)\n",
    "    model.fit(X_train,y_train)\n",
    "    print(\"Train score: %.3f\" % model.score(X_train,y_train))\n",
    "    print(\"Test score:  %.3f\" % model.score(X_test,y_test))\n",
    "    M = model\n",
    "    return model"
   ]
  },
  {
   "cell_type": "markdown",
   "metadata": {},
   "source": [
    "RF model - scanning over the max_depth paramter"
   ]
  },
  {
   "cell_type": "code",
   "execution_count": 80,
   "metadata": {},
   "outputs": [
    {
     "name": "stdout",
     "output_type": "stream",
     "text": [
      "Train score: 0.952\n",
      "Test score:  0.700\n"
     ]
    },
    {
     "data": {
      "text/plain": [
       "RandomForestRegressor()"
      ]
     },
     "execution_count": 80,
     "metadata": {},
     "output_type": "execute_result"
    }
   ],
   "source": [
    "# 'usecode' and 'clust_price' label encoded\n",
    "model_score(X,y,'RF')"
   ]
  },
  {
   "cell_type": "code",
   "execution_count": 41,
   "metadata": {},
   "outputs": [
    {
     "name": "stdout",
     "output_type": "stream",
     "text": [
      "Train score: 0.955\n",
      "Test score:  0.697\n"
     ]
    },
    {
     "data": {
      "text/plain": [
       "RandomForestRegressor()"
      ]
     },
     "execution_count": 41,
     "metadata": {},
     "output_type": "execute_result"
    }
   ],
   "source": [
    "# with scaling\n",
    "model_score(X,y,'RF')"
   ]
  },
  {
   "cell_type": "code",
   "execution_count": 286,
   "metadata": {},
   "outputs": [
    {
     "name": "stdout",
     "output_type": "stream",
     "text": [
      "Train score: 0.951\n",
      "Test score:  0.697\n"
     ]
    },
    {
     "data": {
      "text/plain": [
       "RandomForestRegressor()"
      ]
     },
     "execution_count": 286,
     "metadata": {},
     "output_type": "execute_result"
    }
   ],
   "source": [
    "# SEMI - scaling\n",
    "model_score(X,y,'RF')"
   ]
  },
  {
   "cell_type": "code",
   "execution_count": 142,
   "metadata": {},
   "outputs": [
    {
     "name": "stdout",
     "output_type": "stream",
     "text": [
      "Train score: 0.954\n",
      "Test score:  0.703\n"
     ]
    },
    {
     "data": {
      "text/plain": [
       "RandomForestRegressor()"
      ]
     },
     "execution_count": 142,
     "metadata": {},
     "output_type": "execute_result"
    }
   ],
   "source": [
    "# no scaling\n",
    "model_score(X,y,'RF')"
   ]
  },
  {
   "cell_type": "code",
   "execution_count": 68,
   "metadata": {},
   "outputs": [],
   "source": [
    "# Very big over fit... ~25% !!!"
   ]
  },
  {
   "cell_type": "code",
   "execution_count": 103,
   "metadata": {},
   "outputs": [
    {
     "name": "stdout",
     "output_type": "stream",
     "text": [
      "Train score: 0.611\n",
      "Test score:  0.561\n"
     ]
    },
    {
     "data": {
      "text/plain": [
       "RandomForestRegressor(max_depth=3)"
      ]
     },
     "execution_count": 103,
     "metadata": {},
     "output_type": "execute_result"
    }
   ],
   "source": [
    "#max_depth=3\n",
    "model_score(X,y,'RF')"
   ]
  },
  {
   "cell_type": "code",
   "execution_count": 105,
   "metadata": {},
   "outputs": [
    {
     "name": "stdout",
     "output_type": "stream",
     "text": [
      "Train score: 0.671\n",
      "Test score:  0.602\n"
     ]
    },
    {
     "data": {
      "text/plain": [
       "RandomForestRegressor(max_depth=4)"
      ]
     },
     "execution_count": 105,
     "metadata": {},
     "output_type": "execute_result"
    }
   ],
   "source": [
    "#max_depth=4\n",
    "model_score(X,y,'RF')"
   ]
  },
  {
   "cell_type": "code",
   "execution_count": 107,
   "metadata": {},
   "outputs": [
    {
     "name": "stdout",
     "output_type": "stream",
     "text": [
      "Train score: 0.717\n",
      "Test score:  0.637\n"
     ]
    },
    {
     "data": {
      "text/plain": [
       "RandomForestRegressor(max_depth=5)"
      ]
     },
     "execution_count": 107,
     "metadata": {},
     "output_type": "execute_result"
    }
   ],
   "source": [
    "#max_depth=5\n",
    "model_score(X,y,'RF')"
   ]
  },
  {
   "cell_type": "code",
   "execution_count": 82,
   "metadata": {},
   "outputs": [
    {
     "name": "stdout",
     "output_type": "stream",
     "text": [
      "Train score: 0.763\n",
      "Test score:  0.665\n"
     ]
    },
    {
     "data": {
      "text/plain": [
       "RandomForestRegressor(max_depth=6)"
      ]
     },
     "execution_count": 82,
     "metadata": {},
     "output_type": "execute_result"
    }
   ],
   "source": [
    "#max_depth=6, label encoded\n",
    "model_score(X,y,'RF')"
   ]
  },
  {
   "cell_type": "code",
   "execution_count": 109,
   "metadata": {},
   "outputs": [
    {
     "name": "stdout",
     "output_type": "stream",
     "text": [
      "Train score: 0.764\n",
      "Test score:  0.662\n"
     ]
    },
    {
     "data": {
      "text/plain": [
       "RandomForestRegressor(max_depth=6)"
      ]
     },
     "execution_count": 109,
     "metadata": {},
     "output_type": "execute_result"
    }
   ],
   "source": [
    "#max_depth=6\n",
    "model_score(X,y,'RF')"
   ]
  },
  {
   "cell_type": "code",
   "execution_count": 288,
   "metadata": {},
   "outputs": [
    {
     "name": "stdout",
     "output_type": "stream",
     "text": [
      "Train score: 0.767\n",
      "Test score:  0.662\n"
     ]
    },
    {
     "data": {
      "text/plain": [
       "RandomForestRegressor(max_depth=6)"
      ]
     },
     "execution_count": 288,
     "metadata": {},
     "output_type": "execute_result"
    }
   ],
   "source": [
    "# SEMI - scaling\n",
    "# max_depth=6\n",
    "model_score(X,y,'RF')"
   ]
  },
  {
   "cell_type": "code",
   "execution_count": 111,
   "metadata": {},
   "outputs": [
    {
     "name": "stdout",
     "output_type": "stream",
     "text": [
      "Train score: 0.805\n",
      "Test score:  0.680\n"
     ]
    },
    {
     "data": {
      "text/plain": [
       "RandomForestRegressor(max_depth=7)"
      ]
     },
     "execution_count": 111,
     "metadata": {},
     "output_type": "execute_result"
    }
   ],
   "source": [
    "#max_depth=7\n",
    "model_score(X,y,'RF')"
   ]
  },
  {
   "cell_type": "code",
   "execution_count": 113,
   "metadata": {},
   "outputs": [
    {
     "name": "stdout",
     "output_type": "stream",
     "text": [
      "Train score: 0.831\n",
      "Test score:  0.681\n"
     ]
    },
    {
     "data": {
      "text/plain": [
       "RandomForestRegressor(max_depth=8)"
      ]
     },
     "execution_count": 113,
     "metadata": {},
     "output_type": "execute_result"
    }
   ],
   "source": [
    "#max_depth=8\n",
    "model_score(X,y,'RF')"
   ]
  },
  {
   "cell_type": "code",
   "execution_count": 69,
   "metadata": {},
   "outputs": [],
   "source": [
    "### Need to decide where to stop, maybe on max_depth=6 (only 10% over-fit)"
   ]
  },
  {
   "cell_type": "markdown",
   "metadata": {},
   "source": [
    "GBR model - non normalized data"
   ]
  },
  {
   "cell_type": "code",
   "execution_count": 51,
   "metadata": {},
   "outputs": [
    {
     "name": "stdout",
     "output_type": "stream",
     "text": [
      "Train score: 0.780\n",
      "Test score:  0.677\n"
     ]
    },
    {
     "data": {
      "text/plain": [
       "GradientBoostingRegressor()"
      ]
     },
     "execution_count": 51,
     "metadata": {},
     "output_type": "execute_result"
    }
   ],
   "source": [
    "#max_depth=3\n",
    "model_score(X,y,'GBR')"
   ]
  },
  {
   "cell_type": "code",
   "execution_count": 71,
   "metadata": {},
   "outputs": [
    {
     "name": "stdout",
     "output_type": "stream",
     "text": [
      "Train score: 0.830\n",
      "Test score:  0.689\n"
     ]
    },
    {
     "data": {
      "text/plain": [
       "GradientBoostingRegressor(max_depth=4)"
      ]
     },
     "execution_count": 71,
     "metadata": {},
     "output_type": "execute_result"
    }
   ],
   "source": [
    "#max_depth=4\n",
    "model_score(X,y,'GBR')"
   ]
  },
  {
   "cell_type": "code",
   "execution_count": 83,
   "metadata": {},
   "outputs": [
    {
     "name": "stdout",
     "output_type": "stream",
     "text": [
      "Train score: 0.834\n",
      "Test score:  0.690\n"
     ]
    },
    {
     "data": {
      "text/plain": [
       "GradientBoostingRegressor(max_depth=4)"
      ]
     },
     "execution_count": 83,
     "metadata": {},
     "output_type": "execute_result"
    }
   ],
   "source": [
    "#max_depth=4, label encoded\n",
    "model_score(X,y,'GBR')"
   ]
  },
  {
   "cell_type": "code",
   "execution_count": 53,
   "metadata": {},
   "outputs": [
    {
     "name": "stdout",
     "output_type": "stream",
     "text": [
      "Train score: 0.876\n",
      "Test score:  0.694\n"
     ]
    },
    {
     "data": {
      "text/plain": [
       "GradientBoostingRegressor(max_depth=5)"
      ]
     },
     "execution_count": 53,
     "metadata": {},
     "output_type": "execute_result"
    }
   ],
   "source": [
    "#max_depth=5\n",
    "model_score(X,y,'GBR')"
   ]
  },
  {
   "cell_type": "code",
   "execution_count": 55,
   "metadata": {},
   "outputs": [
    {
     "name": "stdout",
     "output_type": "stream",
     "text": [
      "Train score: 0.939\n",
      "Test score:  0.696\n"
     ]
    },
    {
     "data": {
      "text/plain": [
       "GradientBoostingRegressor(max_depth=7)"
      ]
     },
     "execution_count": 55,
     "metadata": {},
     "output_type": "execute_result"
    }
   ],
   "source": [
    "#max_depth=7\n",
    "model_score(X,y,'GBR')"
   ]
  },
  {
   "cell_type": "code",
   "execution_count": 57,
   "metadata": {},
   "outputs": [
    {
     "name": "stdout",
     "output_type": "stream",
     "text": [
      "Train score: 0.984\n",
      "Test score:  0.704\n"
     ]
    },
    {
     "data": {
      "text/plain": [
       "GradientBoostingRegressor(max_depth=10)"
      ]
     },
     "execution_count": 57,
     "metadata": {},
     "output_type": "execute_result"
    }
   ],
   "source": [
    "#max_depth=10\n",
    "model_score(X,y,'GBR')"
   ]
  },
  {
   "cell_type": "code",
   "execution_count": 61,
   "metadata": {},
   "outputs": [],
   "source": [
    "# 1. I would probably choose something around max_depth=3...depends...\n",
    "# 2. It's better play a bit more with these parameters, getting to know the model"
   ]
  },
  {
   "cell_type": "markdown",
   "metadata": {},
   "source": [
    "LR - model ; not much to play with, just to know where are we standing..."
   ]
  },
  {
   "cell_type": "code",
   "execution_count": 114,
   "metadata": {},
   "outputs": [
    {
     "name": "stdout",
     "output_type": "stream",
     "text": [
      "Train score: 0.554\n",
      "Test score:  0.568\n"
     ]
    },
    {
     "data": {
      "text/plain": [
       "LinearRegression()"
      ]
     },
     "execution_count": 114,
     "metadata": {},
     "output_type": "execute_result"
    }
   ],
   "source": [
    "# with scaling\n",
    "model_score(X,y,'LR')"
   ]
  },
  {
   "cell_type": "code",
   "execution_count": 259,
   "metadata": {},
   "outputs": [
    {
     "name": "stdout",
     "output_type": "stream",
     "text": [
      "Train score: 0.554\n",
      "Test score:  0.568\n"
     ]
    },
    {
     "data": {
      "text/plain": [
       "LinearRegression()"
      ]
     },
     "execution_count": 259,
     "metadata": {},
     "output_type": "execute_result"
    }
   ],
   "source": [
    "# no scaling\n",
    "model_score(X,y,'LR')"
   ]
  },
  {
   "cell_type": "markdown",
   "metadata": {},
   "source": [
    "KNN - model ; let's manually check for different K's"
   ]
  },
  {
   "cell_type": "code",
   "execution_count": 289,
   "metadata": {},
   "outputs": [
    {
     "name": "stdout",
     "output_type": "stream",
     "text": [
      "Train score: 0.759\n",
      "Test score:  0.636\n"
     ]
    },
    {
     "data": {
      "text/plain": [
       "KNeighborsRegressor()"
      ]
     },
     "execution_count": 289,
     "metadata": {},
     "output_type": "execute_result"
    }
   ],
   "source": [
    "# k = 5 - SEMI - scaling\n",
    "model_score(X,y,'KNN')"
   ]
  },
  {
   "cell_type": "code",
   "execution_count": 116,
   "metadata": {},
   "outputs": [
    {
     "name": "stdout",
     "output_type": "stream",
     "text": [
      "Train score: 0.760\n",
      "Test score:  0.630\n"
     ]
    },
    {
     "data": {
      "text/plain": [
       "KNeighborsRegressor()"
      ]
     },
     "execution_count": 116,
     "metadata": {},
     "output_type": "execute_result"
    }
   ],
   "source": [
    "# k = 5 - with scaling\n",
    "model_score(X,y,'KNN')"
   ]
  },
  {
   "cell_type": "code",
   "execution_count": 261,
   "metadata": {},
   "outputs": [
    {
     "name": "stdout",
     "output_type": "stream",
     "text": [
      "Train score: 0.749\n",
      "Test score:  0.602\n"
     ]
    },
    {
     "data": {
      "text/plain": [
       "KNeighborsRegressor()"
      ]
     },
     "execution_count": 261,
     "metadata": {},
     "output_type": "execute_result"
    }
   ],
   "source": [
    "# k = 5 - no scaling\n",
    "model_score(X,y,'KNN')"
   ]
  },
  {
   "cell_type": "code",
   "execution_count": 293,
   "metadata": {},
   "outputs": [
    {
     "name": "stdout",
     "output_type": "stream",
     "text": [
      "Train score: 0.702\n",
      "Test score:  0.636\n"
     ]
    },
    {
     "data": {
      "text/plain": [
       "KNeighborsRegressor(n_neighbors=10)"
      ]
     },
     "execution_count": 293,
     "metadata": {},
     "output_type": "execute_result"
    }
   ],
   "source": [
    "# k = 10 - SEMI - scaling\n",
    "model_score(X,y,'KNN')"
   ]
  },
  {
   "cell_type": "code",
   "execution_count": 84,
   "metadata": {},
   "outputs": [
    {
     "name": "stdout",
     "output_type": "stream",
     "text": [
      "Train score: 0.688\n",
      "Test score:  0.600\n"
     ]
    },
    {
     "data": {
      "text/plain": [
       "KNeighborsRegressor(n_neighbors=10)"
      ]
     },
     "execution_count": 84,
     "metadata": {},
     "output_type": "execute_result"
    }
   ],
   "source": [
    "# k = 10, no scaling, label encoded\n",
    "model_score(X,y,'KNN')"
   ]
  },
  {
   "cell_type": "code",
   "execution_count": 118,
   "metadata": {},
   "outputs": [
    {
     "name": "stdout",
     "output_type": "stream",
     "text": [
      "Train score: 0.718\n",
      "Test score:  0.640\n"
     ]
    },
    {
     "data": {
      "text/plain": [
       "KNeighborsRegressor(n_neighbors=10)"
      ]
     },
     "execution_count": 118,
     "metadata": {},
     "output_type": "execute_result"
    }
   ],
   "source": [
    "# k = 10\n",
    "model_score(X,y,'KNN')"
   ]
  },
  {
   "cell_type": "code",
   "execution_count": 291,
   "metadata": {},
   "outputs": [
    {
     "name": "stdout",
     "output_type": "stream",
     "text": [
      "Train score: 0.660\n",
      "Test score:  0.622\n"
     ]
    },
    {
     "data": {
      "text/plain": [
       "KNeighborsRegressor(n_neighbors=20)"
      ]
     },
     "execution_count": 291,
     "metadata": {},
     "output_type": "execute_result"
    }
   ],
   "source": [
    "# k = 20 - SEMI - scaling\n",
    "model_score(X,y,'KNN')"
   ]
  },
  {
   "cell_type": "code",
   "execution_count": 122,
   "metadata": {},
   "outputs": [
    {
     "name": "stdout",
     "output_type": "stream",
     "text": [
      "Train score: 0.682\n",
      "Test score:  0.647\n"
     ]
    },
    {
     "data": {
      "text/plain": [
       "KNeighborsRegressor(n_neighbors=20)"
      ]
     },
     "execution_count": 122,
     "metadata": {},
     "output_type": "execute_result"
    }
   ],
   "source": [
    "# k = 20\n",
    "model_score(X,y,'KNN')"
   ]
  },
  {
   "cell_type": "code",
   "execution_count": 120,
   "metadata": {},
   "outputs": [
    {
     "name": "stdout",
     "output_type": "stream",
     "text": [
      "Train score: 0.697\n",
      "Test score:  0.640\n"
     ]
    },
    {
     "data": {
      "text/plain": [
       "KNeighborsRegressor(n_neighbors=15)"
      ]
     },
     "execution_count": 120,
     "metadata": {},
     "output_type": "execute_result"
    }
   ],
   "source": [
    "# k = 15\n",
    "model_score(X,y,'KNN')"
   ]
  },
  {
   "cell_type": "code",
   "execution_count": 97,
   "metadata": {},
   "outputs": [],
   "source": [
    "# A FEW COMMENTS - \n",
    "# 1. On some level what I did is better than sensitivity check\n",
    "# 2. Here we have both train & test scors!\n",
    "# 3. I could do it also in sensitivity check, with plots...\n",
    "# 4. Here I would probably chose to stop on K=20, high score and small over-fit"
   ]
  },
  {
   "cell_type": "code",
   "execution_count": null,
   "metadata": {},
   "outputs": [],
   "source": [
    "##----------------------------------------------------------------------------------##"
   ]
  },
  {
   "cell_type": "markdown",
   "metadata": {},
   "source": [
    "### Voting process"
   ]
  },
  {
   "cell_type": "code",
   "execution_count": 85,
   "metadata": {},
   "outputs": [],
   "source": [
    "clf1 = skl.LinearRegression()\n",
    "clf2 = RandomForestRegressor(max_depth=7)\n",
    "clf3 = KNeighborsRegressor(n_neighbors=20)\n",
    "clf4 = GradientBoostingRegressor(max_depth=5) "
   ]
  },
  {
   "cell_type": "code",
   "execution_count": 86,
   "metadata": {},
   "outputs": [
    {
     "name": "stdout",
     "output_type": "stream",
     "text": [
      "Train score: 0.772\n",
      "Test score : 0.670\n"
     ]
    }
   ],
   "source": [
    "emodel = VotingRegressor(estimators=[\n",
    "    ('lr', clf1),\n",
    "    ('rf', clf2),\n",
    "    ('knn', clf3),\n",
    "    ('gbr', clf4)\n",
    "],\n",
    "   )\n",
    "X_train, X_test, y_train, y_test = train_test_split(X, y, test_size=0.33, random_state=42)\n",
    "emodel.fit(X_train, y_train)\n",
    "print(\"Train score: %.3f\" % emodel.score(X_train,y_train))\n",
    "print(\"Test score : %.3f\" % emodel.score(X_test,y_test))"
   ]
  },
  {
   "cell_type": "code",
   "execution_count": 179,
   "metadata": {},
   "outputs": [],
   "source": [
    "# Observations - \n",
    "# 1. When we run it \"free\" only rf and knn we get - Train score: 0.886 and Test score:0.688, 20% over-fit\n",
    "# 2. LR doesn't contribute to this VOTING process (rotten apple)\n",
    "# 3. As we limit rf (max_depth=7) and knn (n_neighbors=20) the we get 0.766 and 0.682 (feels like a better results) "
   ]
  },
  {
   "cell_type": "code",
   "execution_count": null,
   "metadata": {},
   "outputs": [],
   "source": [
    "##------------------------------------------------------------------------------------------------------------------##"
   ]
  },
  {
   "cell_type": "markdown",
   "metadata": {},
   "source": [
    "### Let's try now iterate over the columns and calculate scores..."
   ]
  },
  {
   "cell_type": "markdown",
   "metadata": {},
   "source": [
    "We'll start with KNN"
   ]
  },
  {
   "cell_type": "code",
   "execution_count": 77,
   "metadata": {},
   "outputs": [
    {
     "data": {
      "text/plain": [
       "Index(['bathrooms', 'bedrooms', 'finishedsqft', 'totalrooms', 'yearbuilt',\n",
       "       'zindexvalue', 'usecode_Condominium', 'usecode_Cooperative',\n",
       "       'usecode_Duplex', 'usecode_Miscellaneous', 'usecode_Mobile',\n",
       "       'usecode_MultiFamily2To4', 'usecode_MultiFamily5Plus',\n",
       "       'usecode_SingleFamily', 'usecode_Townhouse',\n",
       "       'clust_price_high_price_low_freq', 'clust_price_low_price'],\n",
       "      dtype='object')"
      ]
     },
     "execution_count": 77,
     "metadata": {},
     "output_type": "execute_result"
    }
   ],
   "source": [
    "col_names"
   ]
  },
  {
   "cell_type": "code",
   "execution_count": 76,
   "metadata": {},
   "outputs": [
    {
     "data": {
      "text/plain": [
       "KNeighborsRegressor(n_neighbors=20)"
      ]
     },
     "execution_count": 76,
     "metadata": {},
     "output_type": "execute_result"
    }
   ],
   "source": [
    "# knn classifier\n",
    "clf3"
   ]
  },
  {
   "cell_type": "code",
   "execution_count": 134,
   "metadata": {},
   "outputs": [
    {
     "data": {
      "text/plain": [
       "['usecode_Condominium',\n",
       " 'usecode_Cooperative',\n",
       " 'usecode_Duplex',\n",
       " 'usecode_Miscellaneous',\n",
       " 'usecode_Mobile',\n",
       " 'usecode_MultiFamily2To4',\n",
       " 'usecode_MultiFamily5Plus',\n",
       " 'usecode_SingleFamily',\n",
       " 'usecode_Townhouse']"
      ]
     },
     "execution_count": 134,
     "metadata": {},
     "output_type": "execute_result"
    }
   ],
   "source": [
    "# What if we take out more features ???\n",
    "list(X_train.columns[6:15])\n",
    "# E.G - it lokks as if we can throw all 'usecode' categoricals"
   ]
  },
  {
   "cell_type": "code",
   "execution_count": 164,
   "metadata": {},
   "outputs": [],
   "source": [
    "X_tr = X_train.drop(list(X_train.columns[0:5]),axis=1)\n",
    "X_ts = X_test.drop(list(X_train.columns[0:5]),axis=1)"
   ]
  },
  {
   "cell_type": "code",
   "execution_count": 165,
   "metadata": {},
   "outputs": [
    {
     "data": {
      "text/plain": [
       "KNeighborsRegressor(n_neighbors=20)"
      ]
     },
     "execution_count": 165,
     "metadata": {},
     "output_type": "execute_result"
    }
   ],
   "source": [
    "clf3.fit(X_tr, y_train)"
   ]
  },
  {
   "cell_type": "code",
   "execution_count": 166,
   "metadata": {},
   "outputs": [
    {
     "data": {
      "text/plain": [
       "0.4699"
      ]
     },
     "execution_count": 166,
     "metadata": {},
     "output_type": "execute_result"
    }
   ],
   "source": [
    "train_score = round(clf3.score(X_tr, y_train),4)\n",
    "train_score"
   ]
  },
  {
   "cell_type": "code",
   "execution_count": 167,
   "metadata": {},
   "outputs": [
    {
     "data": {
      "text/plain": [
       "0.4118"
      ]
     },
     "execution_count": 167,
     "metadata": {},
     "output_type": "execute_result"
    }
   ],
   "source": [
    "test_score = round(clf3.score(X_ts, y_test),4)\n",
    "test_score"
   ]
  },
  {
   "cell_type": "code",
   "execution_count": 79,
   "metadata": {},
   "outputs": [],
   "source": [
    "score_dict = {}\n",
    "for i in (list(col_names)):\n",
    "        X_tr = X_train.drop([i], axis=1)\n",
    "        X_ts = X_test.drop([i], axis=1) \n",
    "        clf3.fit(X_tr, y_train)\n",
    "        train_score = round(clf3.score(X_tr, y_train),4)\n",
    "        test_score = round(clf3.score(X_ts, y_test),4)\n",
    "        score_dict[i] = [train_score, test_score]"
   ]
  },
  {
   "cell_type": "code",
   "execution_count": 98,
   "metadata": {},
   "outputs": [
    {
     "data": {
      "text/plain": [
       "{'bathrooms': [0.6315, 0.578],\n",
       " 'bedrooms': [0.6315, 0.5782],\n",
       " 'finishedsqft': [0.4804, 0.3915],\n",
       " 'totalrooms': [0.6315, 0.578],\n",
       " 'yearbuilt': [0.6309, 0.5779],\n",
       " 'zindexvalue': [0.5073, 0.4471],\n",
       " 'usecode_Condominium': [0.6315, 0.5782],\n",
       " 'usecode_Cooperative': [0.6315, 0.5782],\n",
       " 'usecode_Duplex': [0.6315, 0.5782],\n",
       " 'usecode_Miscellaneous': [0.6315, 0.5782],\n",
       " 'usecode_Mobile': [0.6315, 0.5782],\n",
       " 'usecode_MultiFamily2To4': [0.6315, 0.5782],\n",
       " 'usecode_MultiFamily5Plus': [0.6315, 0.5782],\n",
       " 'usecode_SingleFamily': [0.6315, 0.5782],\n",
       " 'usecode_Townhouse': [0.6315, 0.5782],\n",
       " 'clust_price_high_price_low_freq': [0.6315, 0.5782],\n",
       " 'clust_price_low_price': [0.6315, 0.5782]}"
      ]
     },
     "execution_count": 98,
     "metadata": {},
     "output_type": "execute_result"
    }
   ],
   "source": [
    "score_dict"
   ]
  },
  {
   "cell_type": "code",
   "execution_count": 100,
   "metadata": {},
   "outputs": [
    {
     "name": "stdout",
     "output_type": "stream",
     "text": [
      "bathrooms                        [0.6315, 0.578]\n",
      "bedrooms                         [0.6315, 0.5782]\n",
      "finishedsqft                     [0.4804, 0.3915]\n",
      "totalrooms                       [0.6315, 0.578]\n",
      "yearbuilt                        [0.6309, 0.5779]\n",
      "zindexvalue                      [0.5073, 0.4471]\n",
      "usecode_Condominium              [0.6315, 0.5782]\n",
      "usecode_Cooperative              [0.6315, 0.5782]\n",
      "usecode_Duplex                   [0.6315, 0.5782]\n",
      "usecode_Miscellaneous            [0.6315, 0.5782]\n",
      "usecode_Mobile                   [0.6315, 0.5782]\n",
      "usecode_MultiFamily2To4          [0.6315, 0.5782]\n",
      "usecode_MultiFamily5Plus         [0.6315, 0.5782]\n",
      "usecode_SingleFamily             [0.6315, 0.5782]\n",
      "usecode_Townhouse                [0.6315, 0.5782]\n",
      "clust_price_high_price_low_freq  [0.6315, 0.5782]\n",
      "clust_price_low_price            [0.6315, 0.5782]\n"
     ]
    }
   ],
   "source": [
    "\n",
    "len_keys = [len(i) for i in score_dict.keys()]\n",
    "n_max = max(len_keys)\n",
    "for i in score_dict.keys():\n",
    "    n = len(i)\n",
    "    print(i, (n_max-n)*' ',score_dict[i])\n",
    "    "
   ]
  },
  {
   "cell_type": "code",
   "execution_count": 332,
   "metadata": {},
   "outputs": [],
   "source": [
    "# How to find MAX in the DICT ?\n",
    "# Pay attention - what is the feature we're looking to maximize..."
   ]
  },
  {
   "cell_type": "code",
   "execution_count": 342,
   "metadata": {},
   "outputs": [
    {
     "name": "stdout",
     "output_type": "stream",
     "text": [
      "[0.6836, 0.6437] ['yearbuilt']\n"
     ]
    }
   ],
   "source": [
    "max_value = max(score_dict.values())  \n",
    "max_keys = [k for k, v in score_dict.items() if v == max_value] \n",
    "print(max_value, max_keys)"
   ]
  },
  {
   "cell_type": "code",
   "execution_count": 78,
   "metadata": {},
   "outputs": [],
   "source": [
    "# It's worth looking here at feature importance and compare to the results"
   ]
  },
  {
   "cell_type": "markdown",
   "metadata": {},
   "source": [
    "Let's do it now with Random Forest"
   ]
  },
  {
   "cell_type": "code",
   "execution_count": 139,
   "metadata": {},
   "outputs": [
    {
     "data": {
      "text/plain": [
       "RandomForestRegressor(max_depth=7)"
      ]
     },
     "execution_count": 139,
     "metadata": {},
     "output_type": "execute_result"
    }
   ],
   "source": [
    "clf2"
   ]
  },
  {
   "cell_type": "code",
   "execution_count": 140,
   "metadata": {},
   "outputs": [],
   "source": [
    "score_dict = {}\n",
    "for i in (list(col_names)):\n",
    "        X_tr = X_train.drop([i], axis=1)\n",
    "        X_ts = X_test.drop([i], axis=1) \n",
    "        clf2.fit(X_tr, y_train)\n",
    "        train_score = round(clf2.score(X_tr, y_train),4)\n",
    "        test_score = round(clf2.score(X_ts, y_test),4)\n",
    "        score_dict[i] = [train_score, test_score]"
   ]
  },
  {
   "cell_type": "code",
   "execution_count": 141,
   "metadata": {},
   "outputs": [
    {
     "data": {
      "text/plain": [
       "{'bathrooms': [0.7933, 0.6595],\n",
       " 'bedrooms': [0.8018, 0.6819],\n",
       " 'finishedsqft': [0.7658, 0.645],\n",
       " 'totalrooms': [0.8011, 0.6797],\n",
       " 'yearbuilt': [0.7987, 0.6791],\n",
       " 'zindexvalue': [0.7619, 0.6268],\n",
       " 'usecode_Condominium': [0.8029, 0.677],\n",
       " 'usecode_Cooperative': [0.8043, 0.6796],\n",
       " 'usecode_Duplex': [0.8032, 0.6802],\n",
       " 'usecode_Miscellaneous': [0.8047, 0.6793],\n",
       " 'usecode_Mobile': [0.7986, 0.6758],\n",
       " 'usecode_MultiFamily2To4': [0.8025, 0.6788],\n",
       " 'usecode_MultiFamily5Plus': [0.8015, 0.6856],\n",
       " 'usecode_SingleFamily': [0.7939, 0.6778],\n",
       " 'usecode_Townhouse': [0.802, 0.6813],\n",
       " 'clust_price_high_price_low_freq': [0.8023, 0.6726],\n",
       " 'clust_price_low_price': [0.7946, 0.6677]}"
      ]
     },
     "execution_count": 141,
     "metadata": {},
     "output_type": "execute_result"
    }
   ],
   "source": [
    "score_dict"
   ]
  },
  {
   "cell_type": "code",
   "execution_count": 142,
   "metadata": {},
   "outputs": [
    {
     "name": "stdout",
     "output_type": "stream",
     "text": [
      "[0.8047, 0.6793] ['usecode_Miscellaneous']\n"
     ]
    }
   ],
   "source": [
    "max_value = max(score_dict.values())  \n",
    "max_keys = [k for k, v in score_dict.items() if v == max_value] \n",
    "print(max_value, max_keys)"
   ]
  },
  {
   "cell_type": "code",
   "execution_count": 143,
   "metadata": {},
   "outputs": [
    {
     "name": "stdout",
     "output_type": "stream",
     "text": [
      "bathrooms                        [0.7933, 0.6595]\n",
      "bedrooms                         [0.8018, 0.6819]\n",
      "finishedsqft                     [0.7658, 0.645]\n",
      "totalrooms                       [0.8011, 0.6797]\n",
      "yearbuilt                        [0.7987, 0.6791]\n",
      "zindexvalue                      [0.7619, 0.6268]\n",
      "usecode_Condominium              [0.8029, 0.677]\n",
      "usecode_Cooperative              [0.8043, 0.6796]\n",
      "usecode_Duplex                   [0.8032, 0.6802]\n",
      "usecode_Miscellaneous            [0.8047, 0.6793]\n",
      "usecode_Mobile                   [0.7986, 0.6758]\n",
      "usecode_MultiFamily2To4          [0.8025, 0.6788]\n",
      "usecode_MultiFamily5Plus         [0.8015, 0.6856]\n",
      "usecode_SingleFamily             [0.7939, 0.6778]\n",
      "usecode_Townhouse                [0.802, 0.6813]\n",
      "clust_price_high_price_low_freq  [0.8023, 0.6726]\n",
      "clust_price_low_price            [0.7946, 0.6677]\n"
     ]
    }
   ],
   "source": [
    "len_keys = [len(i) for i in score_dict.keys()]\n",
    "n_max = max(len_keys)\n",
    "for i in score_dict.keys():\n",
    "    n = len(i)\n",
    "    print(i, (n_max-n)*' ',score_dict[i])"
   ]
  },
  {
   "cell_type": "code",
   "execution_count": 362,
   "metadata": {},
   "outputs": [
    {
     "data": {
      "text/plain": [
       "(17,)"
      ]
     },
     "execution_count": 362,
     "metadata": {},
     "output_type": "execute_result"
    }
   ],
   "source": [
    "#clf2.feature_importances_.shape\n",
    "#clf2.fit(X_train, y_train)\n",
    "X_train.columns.shape"
   ]
  },
  {
   "cell_type": "code",
   "execution_count": 152,
   "metadata": {},
   "outputs": [],
   "source": [
    "X_tr = X_train.drop(list(X_train.columns[1:6]),axis=1)\n",
    "X_ts = X_test.drop(list(X_train.columns[1:6]),axis=1)"
   ]
  },
  {
   "cell_type": "code",
   "execution_count": 153,
   "metadata": {},
   "outputs": [
    {
     "data": {
      "text/plain": [
       "RandomForestRegressor(max_depth=7)"
      ]
     },
     "execution_count": 153,
     "metadata": {},
     "output_type": "execute_result"
    }
   ],
   "source": [
    "clf2.fit(X_tr, y_train)"
   ]
  },
  {
   "cell_type": "code",
   "execution_count": 154,
   "metadata": {},
   "outputs": [
    {
     "data": {
      "text/plain": [
       "0.5742"
      ]
     },
     "execution_count": 154,
     "metadata": {},
     "output_type": "execute_result"
    }
   ],
   "source": [
    "train_score = round(clf2.score(X_tr, y_train),4)\n",
    "train_score"
   ]
  },
  {
   "cell_type": "code",
   "execution_count": 155,
   "metadata": {},
   "outputs": [
    {
     "data": {
      "text/plain": [
       "0.5074"
      ]
     },
     "execution_count": 155,
     "metadata": {},
     "output_type": "execute_result"
    }
   ],
   "source": [
    "test_score = round(clf2.score(X_ts, y_test),4)\n",
    "test_score"
   ]
  },
  {
   "cell_type": "code",
   "execution_count": 364,
   "metadata": {},
   "outputs": [
    {
     "data": {
      "text/html": [
       "<div>\n",
       "<style scoped>\n",
       "    .dataframe tbody tr th:only-of-type {\n",
       "        vertical-align: middle;\n",
       "    }\n",
       "\n",
       "    .dataframe tbody tr th {\n",
       "        vertical-align: top;\n",
       "    }\n",
       "\n",
       "    .dataframe thead th {\n",
       "        text-align: right;\n",
       "    }\n",
       "</style>\n",
       "<table border=\"1\" class=\"dataframe\">\n",
       "  <thead>\n",
       "    <tr style=\"text-align: right;\">\n",
       "      <th></th>\n",
       "      <th>fi_RF</th>\n",
       "    </tr>\n",
       "  </thead>\n",
       "  <tbody>\n",
       "    <tr>\n",
       "      <th>finishedsqft</th>\n",
       "      <td>0.612654</td>\n",
       "    </tr>\n",
       "    <tr>\n",
       "      <th>zindexvalue</th>\n",
       "      <td>0.143054</td>\n",
       "    </tr>\n",
       "    <tr>\n",
       "      <th>clust_price_low_price</th>\n",
       "      <td>0.069050</td>\n",
       "    </tr>\n",
       "    <tr>\n",
       "      <th>bathrooms</th>\n",
       "      <td>0.043758</td>\n",
       "    </tr>\n",
       "    <tr>\n",
       "      <th>yearbuilt</th>\n",
       "      <td>0.038318</td>\n",
       "    </tr>\n",
       "    <tr>\n",
       "      <th>usecode_SingleFamily</th>\n",
       "      <td>0.034174</td>\n",
       "    </tr>\n",
       "    <tr>\n",
       "      <th>totalrooms</th>\n",
       "      <td>0.031756</td>\n",
       "    </tr>\n",
       "    <tr>\n",
       "      <th>bedrooms</th>\n",
       "      <td>0.019863</td>\n",
       "    </tr>\n",
       "    <tr>\n",
       "      <th>usecode_MultiFamily2To4</th>\n",
       "      <td>0.003276</td>\n",
       "    </tr>\n",
       "    <tr>\n",
       "      <th>usecode_Condominium</th>\n",
       "      <td>0.001607</td>\n",
       "    </tr>\n",
       "    <tr>\n",
       "      <th>clust_price_high_price_low_freq</th>\n",
       "      <td>0.001582</td>\n",
       "    </tr>\n",
       "    <tr>\n",
       "      <th>usecode_Duplex</th>\n",
       "      <td>0.000695</td>\n",
       "    </tr>\n",
       "    <tr>\n",
       "      <th>usecode_Miscellaneous</th>\n",
       "      <td>0.000184</td>\n",
       "    </tr>\n",
       "    <tr>\n",
       "      <th>usecode_Cooperative</th>\n",
       "      <td>0.000013</td>\n",
       "    </tr>\n",
       "    <tr>\n",
       "      <th>usecode_Townhouse</th>\n",
       "      <td>0.000009</td>\n",
       "    </tr>\n",
       "    <tr>\n",
       "      <th>usecode_Mobile</th>\n",
       "      <td>0.000004</td>\n",
       "    </tr>\n",
       "    <tr>\n",
       "      <th>usecode_MultiFamily5Plus</th>\n",
       "      <td>0.000002</td>\n",
       "    </tr>\n",
       "  </tbody>\n",
       "</table>\n",
       "</div>"
      ],
      "text/plain": [
       "                                    fi_RF\n",
       "finishedsqft                     0.612654\n",
       "zindexvalue                      0.143054\n",
       "clust_price_low_price            0.069050\n",
       "bathrooms                        0.043758\n",
       "yearbuilt                        0.038318\n",
       "usecode_SingleFamily             0.034174\n",
       "totalrooms                       0.031756\n",
       "bedrooms                         0.019863\n",
       "usecode_MultiFamily2To4          0.003276\n",
       "usecode_Condominium              0.001607\n",
       "clust_price_high_price_low_freq  0.001582\n",
       "usecode_Duplex                   0.000695\n",
       "usecode_Miscellaneous            0.000184\n",
       "usecode_Cooperative              0.000013\n",
       "usecode_Townhouse                0.000009\n",
       "usecode_Mobile                   0.000004\n",
       "usecode_MultiFamily5Plus         0.000002"
      ]
     },
     "execution_count": 364,
     "metadata": {},
     "output_type": "execute_result"
    }
   ],
   "source": [
    "feat_imp = pd.DataFrame(index=X_train.columns, data=clf2.feature_importances_, columns=['fi_RF'])\n",
    "feat_imp = feat_imp.sort_values(by='fi_RF',ascending=False)\n",
    "feat_imp"
   ]
  },
  {
   "cell_type": "markdown",
   "metadata": {},
   "source": [
    "### Summary to this point:"
   ]
  },
  {
   "cell_type": "code",
   "execution_count": 366,
   "metadata": {},
   "outputs": [],
   "source": [
    "# 1. It is possible to search column by column looking for the highest score-type\n",
    "# 2. It's recommended to start with fast models while searching\n",
    "# 3. The relation between the chosen columns and feature importance is interesting\n",
    "# 4. It seems that the numerical features are WAY MORE improving the model\n",
    "# 5. It's worth looking carefully on the different GROUPS of features\n",
    "# 6. Label encoder works fine, and may save a lot of memory"
   ]
  }
 ],
 "metadata": {
  "kernelspec": {
   "display_name": "Python 3",
   "language": "python",
   "name": "python3"
  },
  "language_info": {
   "codemirror_mode": {
    "name": "ipython",
    "version": 3
   },
   "file_extension": ".py",
   "mimetype": "text/x-python",
   "name": "python",
   "nbconvert_exporter": "python",
   "pygments_lexer": "ipython3",
   "version": "3.7.6"
  }
 },
 "nbformat": 4,
 "nbformat_minor": 4
}
